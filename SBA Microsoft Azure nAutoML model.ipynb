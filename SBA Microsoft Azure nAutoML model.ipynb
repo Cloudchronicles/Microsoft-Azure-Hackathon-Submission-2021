{
 "cells": [
  {
   "cell_type": "markdown",
   "metadata": {},
   "source": [
    "# Cloud chornicles - Microsoft Azure AutoML model "
   ]
  },
  {
   "cell_type": "code",
   "execution_count": 1,
   "metadata": {},
   "outputs": [],
   "source": [
    "#importing required libraries\n",
    "import pandas as pd\n",
    "from azureml.core import Dataset\n",
    "from datetime import datetime\n",
    "from dateutil.relativedelta import relativedelta\n",
    "import logging\n",
    "\n",
    "from matplotlib import pyplot as plt\n",
    "import pandas as pd\n",
    "import os\n",
    "\n",
    "import azureml.core\n",
    "from azureml.core.experiment import Experiment\n",
    "from azureml.core.workspace import Workspace\n",
    "from azureml.core.dataset import Dataset\n",
    "from azureml.train.automl import AutoMLConfig"
   ]
  },
  {
   "cell_type": "code",
   "execution_count": 55,
   "metadata": {},
   "outputs": [
    {
     "name": "stdout",
     "output_type": "stream",
     "text": [
      "Requirement already up-to-date: azureml-sdk in /anaconda/envs/azureml_py36/lib/python3.6/site-packages (1.24.0)\n",
      "Requirement already up-to-date: azureml-widgets in /anaconda/envs/azureml_py36/lib/python3.6/site-packages (1.24.0)\n",
      "Requirement already satisfied, skipping upgrade: azureml-core~=1.24.0 in /anaconda/envs/azureml_py36/lib/python3.6/site-packages (from azureml-sdk) (1.24.0.post2)\n",
      "Requirement already satisfied, skipping upgrade: azureml-train-automl-client~=1.24.0 in /anaconda/envs/azureml_py36/lib/python3.6/site-packages (from azureml-sdk) (1.24.0)\n",
      "Requirement already satisfied, skipping upgrade: azureml-pipeline~=1.24.0 in /anaconda/envs/azureml_py36/lib/python3.6/site-packages (from azureml-sdk) (1.24.0)\n",
      "Requirement already satisfied, skipping upgrade: azureml-train~=1.24.0 in /anaconda/envs/azureml_py36/lib/python3.6/site-packages (from azureml-sdk) (1.24.0)\n",
      "Requirement already satisfied, skipping upgrade: azureml-dataset-runtime[fuse]~=1.24.0 in /anaconda/envs/azureml_py36/lib/python3.6/site-packages (from azureml-sdk) (1.24.0)\n",
      "Requirement already satisfied, skipping upgrade: azureml-telemetry~=1.24.0 in /anaconda/envs/azureml_py36/lib/python3.6/site-packages (from azureml-widgets) (1.24.0)\n",
      "Requirement already satisfied, skipping upgrade: ipywidgets>=7.0.0 in /anaconda/envs/azureml_py36/lib/python3.6/site-packages (from azureml-widgets) (7.6.3)\n",
      "Requirement already satisfied, skipping upgrade: azure-storage-blob>=12.6.0 in /anaconda/envs/azureml_py36/lib/python3.6/site-packages (from azureml-widgets) (12.7.1)\n",
      "Requirement already satisfied, skipping upgrade: pytz in /anaconda/envs/azureml_py36/lib/python3.6/site-packages (from azureml-core~=1.24.0->azureml-sdk) (2021.1)\n",
      "Requirement already satisfied, skipping upgrade: jmespath in /anaconda/envs/azureml_py36/lib/python3.6/site-packages (from azureml-core~=1.24.0->azureml-sdk) (0.10.0)\n",
      "Requirement already satisfied, skipping upgrade: pyopenssl<21.0.0 in /anaconda/envs/azureml_py36/lib/python3.6/site-packages (from azureml-core~=1.24.0->azureml-sdk) (20.0.1)\n",
      "Requirement already satisfied, skipping upgrade: azure-mgmt-keyvault<7.0.0,>=0.40.0 in /anaconda/envs/azureml_py36/lib/python3.6/site-packages (from azureml-core~=1.24.0->azureml-sdk) (2.2.0)\n",
      "Requirement already satisfied, skipping upgrade: pathspec in /anaconda/envs/azureml_py36/lib/python3.6/site-packages (from azureml-core~=1.24.0->azureml-sdk) (0.8.1)\n",
      "Requirement already satisfied, skipping upgrade: cryptography!=1.9,!=2.0.*,!=2.1.*,!=2.2.*,<4.0.0 in /anaconda/envs/azureml_py36/lib/python3.6/site-packages (from azureml-core~=1.24.0->azureml-sdk) (3.3.1)\n",
      "Requirement already satisfied, skipping upgrade: msrest>=0.5.1 in /anaconda/envs/azureml_py36/lib/python3.6/site-packages (from azureml-core~=1.24.0->azureml-sdk) (0.6.21)\n",
      "Requirement already satisfied, skipping upgrade: azure-mgmt-authorization<1.0.0,>=0.40.0 in /anaconda/envs/azureml_py36/lib/python3.6/site-packages (from azureml-core~=1.24.0->azureml-sdk) (0.61.0)\n",
      "Requirement already satisfied, skipping upgrade: msrestazure>=0.4.33 in /anaconda/envs/azureml_py36/lib/python3.6/site-packages (from azureml-core~=1.24.0->azureml-sdk) (0.6.4)\n",
      "Requirement already satisfied, skipping upgrade: urllib3>=1.23 in /anaconda/envs/azureml_py36/lib/python3.6/site-packages (from azureml-core~=1.24.0->azureml-sdk) (1.25.11)\n",
      "Requirement already satisfied, skipping upgrade: azure-mgmt-containerregistry>=2.0.0 in /anaconda/envs/azureml_py36/lib/python3.6/site-packages (from azureml-core~=1.24.0->azureml-sdk) (2.8.0)\n",
      "Requirement already satisfied, skipping upgrade: SecretStorage in /anaconda/envs/azureml_py36/lib/python3.6/site-packages (from azureml-core~=1.24.0->azureml-sdk) (3.3.0)\n",
      "Requirement already satisfied, skipping upgrade: ruamel.yaml>=0.15.35 in /anaconda/envs/azureml_py36/lib/python3.6/site-packages (from azureml-core~=1.24.0->azureml-sdk) (0.16.12)\n",
      "Requirement already satisfied, skipping upgrade: azure-mgmt-resource<15.0.0,>=1.2.1 in /anaconda/envs/azureml_py36/lib/python3.6/site-packages (from azureml-core~=1.24.0->azureml-sdk) (12.0.0)\n",
      "Requirement already satisfied, skipping upgrade: azure-graphrbac<1.0.0,>=0.40.0 in /anaconda/envs/azureml_py36/lib/python3.6/site-packages (from azureml-core~=1.24.0->azureml-sdk) (0.61.1)\n",
      "Requirement already satisfied, skipping upgrade: python-dateutil>=2.7.3 in /anaconda/envs/azureml_py36/lib/python3.6/site-packages (from azureml-core~=1.24.0->azureml-sdk) (2.8.1)\n",
      "Requirement already satisfied, skipping upgrade: azure-common>=1.1.12 in /anaconda/envs/azureml_py36/lib/python3.6/site-packages (from azureml-core~=1.24.0->azureml-sdk) (1.1.26)\n",
      "Requirement already satisfied, skipping upgrade: PyJWT<3.0.0 in /anaconda/envs/azureml_py36/lib/python3.6/site-packages (from azureml-core~=1.24.0->azureml-sdk) (1.7.1)\n",
      "Requirement already satisfied, skipping upgrade: jsonpickle in /anaconda/envs/azureml_py36/lib/python3.6/site-packages (from azureml-core~=1.24.0->azureml-sdk) (1.5.1)\n",
      "Requirement already satisfied, skipping upgrade: ndg-httpsclient in /anaconda/envs/azureml_py36/lib/python3.6/site-packages (from azureml-core~=1.24.0->azureml-sdk) (0.5.1)\n",
      "Requirement already satisfied, skipping upgrade: contextlib2 in /anaconda/envs/azureml_py36/lib/python3.6/site-packages (from azureml-core~=1.24.0->azureml-sdk) (0.6.0.post1)\n",
      "Requirement already satisfied, skipping upgrade: backports.tempfile in /anaconda/envs/azureml_py36/lib/python3.6/site-packages (from azureml-core~=1.24.0->azureml-sdk) (1.0)\n",
      "Requirement already satisfied, skipping upgrade: adal>=1.2.0 in /anaconda/envs/azureml_py36/lib/python3.6/site-packages (from azureml-core~=1.24.0->azureml-sdk) (1.2.6)\n",
      "Requirement already satisfied, skipping upgrade: requests<3.0.0,>=2.19.1 in /anaconda/envs/azureml_py36/lib/python3.6/site-packages (from azureml-core~=1.24.0->azureml-sdk) (2.25.1)\n",
      "Requirement already satisfied, skipping upgrade: docker in /anaconda/envs/azureml_py36/lib/python3.6/site-packages (from azureml-core~=1.24.0->azureml-sdk) (4.4.1)\n",
      "Requirement already satisfied, skipping upgrade: azure-mgmt-storage<16.0.0,>=1.5.0 in /anaconda/envs/azureml_py36/lib/python3.6/site-packages (from azureml-core~=1.24.0->azureml-sdk) (11.2.0)\n",
      "Requirement already satisfied, skipping upgrade: azureml-automl-core~=1.24.0 in /anaconda/envs/azureml_py36/lib/python3.6/site-packages (from azureml-train-automl-client~=1.24.0->azureml-sdk) (1.24.0)\n",
      "Requirement already satisfied, skipping upgrade: azureml-pipeline-steps~=1.24.0 in /anaconda/envs/azureml_py36/lib/python3.6/site-packages (from azureml-pipeline~=1.24.0->azureml-sdk) (1.24.0)\n",
      "Requirement already satisfied, skipping upgrade: azureml-pipeline-core~=1.24.0 in /anaconda/envs/azureml_py36/lib/python3.6/site-packages (from azureml-pipeline~=1.24.0->azureml-sdk) (1.24.0)\n",
      "Requirement already satisfied, skipping upgrade: azureml-train-core~=1.24.0 in /anaconda/envs/azureml_py36/lib/python3.6/site-packages (from azureml-train~=1.24.0->azureml-sdk) (1.24.0)\n",
      "Requirement already satisfied, skipping upgrade: pyarrow<2.0.0,>=0.17.0 in /anaconda/envs/azureml_py36/lib/python3.6/site-packages (from azureml-dataset-runtime[fuse]~=1.24.0->azureml-sdk) (1.0.1)\n",
      "Requirement already satisfied, skipping upgrade: numpy!=1.19.3; sys_platform == \"linux\" in /anaconda/envs/azureml_py36/lib/python3.6/site-packages (from azureml-dataset-runtime[fuse]~=1.24.0->azureml-sdk) (1.18.5)\n",
      "Requirement already satisfied, skipping upgrade: azureml-dataprep<2.12.0a,>=2.11.0a in /anaconda/envs/azureml_py36/lib/python3.6/site-packages (from azureml-dataset-runtime[fuse]~=1.24.0->azureml-sdk) (2.11.2)\n",
      "Requirement already satisfied, skipping upgrade: fusepy<4.0.0,>=3.0.1; extra == \"fuse\" in /anaconda/envs/azureml_py36/lib/python3.6/site-packages (from azureml-dataset-runtime[fuse]~=1.24.0->azureml-sdk) (3.0.1)\n",
      "Requirement already satisfied, skipping upgrade: applicationinsights in /anaconda/envs/azureml_py36/lib/python3.6/site-packages (from azureml-telemetry~=1.24.0->azureml-widgets) (0.11.9)\n",
      "Requirement already satisfied, skipping upgrade: jupyterlab-widgets>=1.0.0; python_version >= \"3.6\" in /anaconda/envs/azureml_py36/lib/python3.6/site-packages (from ipywidgets>=7.0.0->azureml-widgets) (1.0.0)\n",
      "Requirement already satisfied, skipping upgrade: widgetsnbextension~=3.5.0 in /anaconda/envs/azureml_py36/lib/python3.6/site-packages (from ipywidgets>=7.0.0->azureml-widgets) (3.5.1)\n",
      "Requirement already satisfied, skipping upgrade: traitlets>=4.3.1 in /anaconda/envs/azureml_py36/lib/python3.6/site-packages (from ipywidgets>=7.0.0->azureml-widgets) (4.3.3)\n",
      "Requirement already satisfied, skipping upgrade: ipykernel>=4.5.1 in /anaconda/envs/azureml_py36/lib/python3.6/site-packages (from ipywidgets>=7.0.0->azureml-widgets) (5.4.3)\n",
      "Requirement already satisfied, skipping upgrade: nbformat>=4.2.0 in /anaconda/envs/azureml_py36/lib/python3.6/site-packages (from ipywidgets>=7.0.0->azureml-widgets) (5.1.2)\n",
      "Requirement already satisfied, skipping upgrade: ipython>=4.0.0; python_version >= \"3.3\" in /anaconda/envs/azureml_py36/lib/python3.6/site-packages (from ipywidgets>=7.0.0->azureml-widgets) (7.16.1)\n",
      "Requirement already satisfied, skipping upgrade: azure-core<2.0.0,>=1.10.0 in /anaconda/envs/azureml_py36/lib/python3.6/site-packages (from azure-storage-blob>=12.6.0->azureml-widgets) (1.10.0)\n",
      "Requirement already satisfied, skipping upgrade: six>=1.5.2 in /anaconda/envs/azureml_py36/lib/python3.6/site-packages (from pyopenssl<21.0.0->azureml-core~=1.24.0->azureml-sdk) (1.15.0)\n",
      "Requirement already satisfied, skipping upgrade: cffi>=1.12 in /anaconda/envs/azureml_py36/lib/python3.6/site-packages (from cryptography!=1.9,!=2.0.*,!=2.1.*,!=2.2.*,<4.0.0->azureml-core~=1.24.0->azureml-sdk) (1.14.4)\n",
      "Requirement already satisfied, skipping upgrade: requests-oauthlib>=0.5.0 in /anaconda/envs/azureml_py36/lib/python3.6/site-packages (from msrest>=0.5.1->azureml-core~=1.24.0->azureml-sdk) (1.3.0)\n",
      "Requirement already satisfied, skipping upgrade: isodate>=0.6.0 in /anaconda/envs/azureml_py36/lib/python3.6/site-packages (from msrest>=0.5.1->azureml-core~=1.24.0->azureml-sdk) (0.6.0)\n",
      "Requirement already satisfied, skipping upgrade: certifi>=2017.4.17 in /anaconda/envs/azureml_py36/lib/python3.6/site-packages (from msrest>=0.5.1->azureml-core~=1.24.0->azureml-sdk) (2020.12.5)\n",
      "Requirement already satisfied, skipping upgrade: jeepney>=0.6 in /anaconda/envs/azureml_py36/lib/python3.6/site-packages (from SecretStorage->azureml-core~=1.24.0->azureml-sdk) (0.6.0)\n",
      "Requirement already satisfied, skipping upgrade: ruamel.yaml.clib>=0.1.2; platform_python_implementation == \"CPython\" and python_version < \"3.9\" in /anaconda/envs/azureml_py36/lib/python3.6/site-packages (from ruamel.yaml>=0.15.35->azureml-core~=1.24.0->azureml-sdk) (0.2.2)\n",
      "Requirement already satisfied, skipping upgrade: importlib-metadata; python_version < \"3.8\" in /anaconda/envs/azureml_py36/lib/python3.6/site-packages (from jsonpickle->azureml-core~=1.24.0->azureml-sdk) (3.4.0)\n",
      "Requirement already satisfied, skipping upgrade: pyasn1>=0.1.1 in /anaconda/envs/azureml_py36/lib/python3.6/site-packages (from ndg-httpsclient->azureml-core~=1.24.0->azureml-sdk) (0.4.8)\n",
      "Requirement already satisfied, skipping upgrade: backports.weakref in /anaconda/envs/azureml_py36/lib/python3.6/site-packages (from backports.tempfile->azureml-core~=1.24.0->azureml-sdk) (1.0.post1)\n",
      "Requirement already satisfied, skipping upgrade: idna<3,>=2.5 in /anaconda/envs/azureml_py36/lib/python3.6/site-packages (from requests<3.0.0,>=2.19.1->azureml-core~=1.24.0->azureml-sdk) (2.10)\n",
      "Requirement already satisfied, skipping upgrade: chardet<5,>=3.0.2 in /anaconda/envs/azureml_py36/lib/python3.6/site-packages (from requests<3.0.0,>=2.19.1->azureml-core~=1.24.0->azureml-sdk) (4.0.0)\n",
      "Requirement already satisfied, skipping upgrade: websocket-client>=0.32.0 in /anaconda/envs/azureml_py36/lib/python3.6/site-packages (from docker->azureml-core~=1.24.0->azureml-sdk) (0.57.0)\n",
      "Requirement already satisfied, skipping upgrade: azureml-train-restclients-hyperdrive~=1.24.0 in /anaconda/envs/azureml_py36/lib/python3.6/site-packages (from azureml-train-core~=1.24.0->azureml-train~=1.24.0->azureml-sdk) (1.24.0)\n",
      "Requirement already satisfied, skipping upgrade: cloudpickle<2.0.0,>=1.1.0 in /anaconda/envs/azureml_py36/lib/python3.6/site-packages (from azureml-dataprep<2.12.0a,>=2.11.0a->azureml-dataset-runtime[fuse]~=1.24.0->azureml-sdk) (1.6.0)\n",
      "Requirement already satisfied, skipping upgrade: dotnetcore2<3.0.0,>=2.1.14 in /anaconda/envs/azureml_py36/lib/python3.6/site-packages (from azureml-dataprep<2.12.0a,>=2.11.0a->azureml-dataset-runtime[fuse]~=1.24.0->azureml-sdk) (2.1.20)\n",
      "Requirement already satisfied, skipping upgrade: azureml-dataprep-rslex<1.10.0a,>=1.9.0dev0 in /anaconda/envs/azureml_py36/lib/python3.6/site-packages (from azureml-dataprep<2.12.0a,>=2.11.0a->azureml-dataset-runtime[fuse]~=1.24.0->azureml-sdk) (1.9.1)\n",
      "Requirement already satisfied, skipping upgrade: azure-identity<1.5.0,>=1.2.0 in /anaconda/envs/azureml_py36/lib/python3.6/site-packages (from azureml-dataprep<2.12.0a,>=2.11.0a->azureml-dataset-runtime[fuse]~=1.24.0->azureml-sdk) (1.4.1)\n",
      "Requirement already satisfied, skipping upgrade: azureml-dataprep-native<31.0.0,>=30.0.0 in /anaconda/envs/azureml_py36/lib/python3.6/site-packages (from azureml-dataprep<2.12.0a,>=2.11.0a->azureml-dataset-runtime[fuse]~=1.24.0->azureml-sdk) (30.0.0)\n",
      "Requirement already satisfied, skipping upgrade: notebook>=4.4.1 in /anaconda/envs/azureml_py36/lib/python3.6/site-packages (from widgetsnbextension~=3.5.0->ipywidgets>=7.0.0->azureml-widgets) (6.2.0)\n",
      "Requirement already satisfied, skipping upgrade: ipython-genutils in /anaconda/envs/azureml_py36/lib/python3.6/site-packages (from traitlets>=4.3.1->ipywidgets>=7.0.0->azureml-widgets) (0.2.0)\n",
      "Requirement already satisfied, skipping upgrade: decorator in /anaconda/envs/azureml_py36/lib/python3.6/site-packages (from traitlets>=4.3.1->ipywidgets>=7.0.0->azureml-widgets) (4.4.2)\n",
      "Requirement already satisfied, skipping upgrade: jupyter-client in /anaconda/envs/azureml_py36/lib/python3.6/site-packages (from ipykernel>=4.5.1->ipywidgets>=7.0.0->azureml-widgets) (6.1.11)\n",
      "Requirement already satisfied, skipping upgrade: tornado>=4.2 in /anaconda/envs/azureml_py36/lib/python3.6/site-packages (from ipykernel>=4.5.1->ipywidgets>=7.0.0->azureml-widgets) (6.1)\n",
      "Requirement already satisfied, skipping upgrade: jupyter-core in /anaconda/envs/azureml_py36/lib/python3.6/site-packages (from nbformat>=4.2.0->ipywidgets>=7.0.0->azureml-widgets) (4.7.1)\n",
      "Requirement already satisfied, skipping upgrade: jsonschema!=2.5.0,>=2.4 in /anaconda/envs/azureml_py36/lib/python3.6/site-packages (from nbformat>=4.2.0->ipywidgets>=7.0.0->azureml-widgets) (3.2.0)\n",
      "Requirement already satisfied, skipping upgrade: pygments in /anaconda/envs/azureml_py36/lib/python3.6/site-packages (from ipython>=4.0.0; python_version >= \"3.3\"->ipywidgets>=7.0.0->azureml-widgets) (2.7.4)\n",
      "Requirement already satisfied, skipping upgrade: pexpect; sys_platform != \"win32\" in /anaconda/envs/azureml_py36/lib/python3.6/site-packages (from ipython>=4.0.0; python_version >= \"3.3\"->ipywidgets>=7.0.0->azureml-widgets) (4.8.0)\n",
      "Requirement already satisfied, skipping upgrade: setuptools>=18.5 in /anaconda/envs/azureml_py36/lib/python3.6/site-packages (from ipython>=4.0.0; python_version >= \"3.3\"->ipywidgets>=7.0.0->azureml-widgets) (50.3.0)\n",
      "Requirement already satisfied, skipping upgrade: pickleshare in /anaconda/envs/azureml_py36/lib/python3.6/site-packages (from ipython>=4.0.0; python_version >= \"3.3\"->ipywidgets>=7.0.0->azureml-widgets) (0.7.5)\n",
      "Requirement already satisfied, skipping upgrade: prompt-toolkit!=3.0.0,!=3.0.1,<3.1.0,>=2.0.0 in /anaconda/envs/azureml_py36/lib/python3.6/site-packages (from ipython>=4.0.0; python_version >= \"3.3\"->ipywidgets>=7.0.0->azureml-widgets) (3.0.14)\n",
      "Requirement already satisfied, skipping upgrade: backcall in /anaconda/envs/azureml_py36/lib/python3.6/site-packages (from ipython>=4.0.0; python_version >= \"3.3\"->ipywidgets>=7.0.0->azureml-widgets) (0.2.0)\n",
      "Requirement already satisfied, skipping upgrade: jedi>=0.10 in /anaconda/envs/azureml_py36/lib/python3.6/site-packages (from ipython>=4.0.0; python_version >= \"3.3\"->ipywidgets>=7.0.0->azureml-widgets) (0.18.0)\n",
      "Requirement already satisfied, skipping upgrade: pycparser in /anaconda/envs/azureml_py36/lib/python3.6/site-packages (from cffi>=1.12->cryptography!=1.9,!=2.0.*,!=2.1.*,!=2.2.*,<4.0.0->azureml-core~=1.24.0->azureml-sdk) (2.20)\n",
      "Requirement already satisfied, skipping upgrade: oauthlib>=3.0.0 in /anaconda/envs/azureml_py36/lib/python3.6/site-packages (from requests-oauthlib>=0.5.0->msrest>=0.5.1->azureml-core~=1.24.0->azureml-sdk) (3.1.0)\n",
      "Requirement already satisfied, skipping upgrade: typing-extensions>=3.6.4; python_version < \"3.8\" in /anaconda/envs/azureml_py36/lib/python3.6/site-packages (from importlib-metadata; python_version < \"3.8\"->jsonpickle->azureml-core~=1.24.0->azureml-sdk) (3.7.4.3)\n",
      "Requirement already satisfied, skipping upgrade: zipp>=0.5 in /anaconda/envs/azureml_py36/lib/python3.6/site-packages (from importlib-metadata; python_version < \"3.8\"->jsonpickle->azureml-core~=1.24.0->azureml-sdk) (3.4.0)\n",
      "Requirement already satisfied, skipping upgrade: distro>=1.2.0 in /anaconda/envs/azureml_py36/lib/python3.6/site-packages (from dotnetcore2<3.0.0,>=2.1.14->azureml-dataprep<2.12.0a,>=2.11.0a->azureml-dataset-runtime[fuse]~=1.24.0->azureml-sdk) (1.5.0)\n",
      "Requirement already satisfied, skipping upgrade: msal-extensions~=0.2.2 in /anaconda/envs/azureml_py36/lib/python3.6/site-packages (from azure-identity<1.5.0,>=1.2.0->azureml-dataprep<2.12.0a,>=2.11.0a->azureml-dataset-runtime[fuse]~=1.24.0->azureml-sdk) (0.2.2)\n",
      "Requirement already satisfied, skipping upgrade: msal<2.0.0,>=1.3.0 in /anaconda/envs/azureml_py36/lib/python3.6/site-packages (from azure-identity<1.5.0,>=1.2.0->azureml-dataprep<2.12.0a,>=2.11.0a->azureml-dataset-runtime[fuse]~=1.24.0->azureml-sdk) (1.8.0)\n",
      "Requirement already satisfied, skipping upgrade: pyzmq>=17 in /anaconda/envs/azureml_py36/lib/python3.6/site-packages (from notebook>=4.4.1->widgetsnbextension~=3.5.0->ipywidgets>=7.0.0->azureml-widgets) (22.0.2)\n",
      "Requirement already satisfied, skipping upgrade: jinja2 in /anaconda/envs/azureml_py36/lib/python3.6/site-packages (from notebook>=4.4.1->widgetsnbextension~=3.5.0->ipywidgets>=7.0.0->azureml-widgets) (2.11.2)\n",
      "Requirement already satisfied, skipping upgrade: terminado>=0.8.3 in /anaconda/envs/azureml_py36/lib/python3.6/site-packages (from notebook>=4.4.1->widgetsnbextension~=3.5.0->ipywidgets>=7.0.0->azureml-widgets) (0.9.2)\n",
      "Requirement already satisfied, skipping upgrade: prometheus-client in /anaconda/envs/azureml_py36/lib/python3.6/site-packages (from notebook>=4.4.1->widgetsnbextension~=3.5.0->ipywidgets>=7.0.0->azureml-widgets) (0.9.0)\n",
      "Requirement already satisfied, skipping upgrade: argon2-cffi in /anaconda/envs/azureml_py36/lib/python3.6/site-packages (from notebook>=4.4.1->widgetsnbextension~=3.5.0->ipywidgets>=7.0.0->azureml-widgets) (20.1.0)\n",
      "Requirement already satisfied, skipping upgrade: nbconvert in /anaconda/envs/azureml_py36/lib/python3.6/site-packages (from notebook>=4.4.1->widgetsnbextension~=3.5.0->ipywidgets>=7.0.0->azureml-widgets) (5.6.1)\n",
      "Requirement already satisfied, skipping upgrade: Send2Trash>=1.5.0 in /anaconda/envs/azureml_py36/lib/python3.6/site-packages (from notebook>=4.4.1->widgetsnbextension~=3.5.0->ipywidgets>=7.0.0->azureml-widgets) (1.5.0)\n",
      "Requirement already satisfied, skipping upgrade: pyrsistent>=0.14.0 in /anaconda/envs/azureml_py36/lib/python3.6/site-packages (from jsonschema!=2.5.0,>=2.4->nbformat>=4.2.0->ipywidgets>=7.0.0->azureml-widgets) (0.17.3)\n",
      "Requirement already satisfied, skipping upgrade: attrs>=17.4.0 in /anaconda/envs/azureml_py36/lib/python3.6/site-packages (from jsonschema!=2.5.0,>=2.4->nbformat>=4.2.0->ipywidgets>=7.0.0->azureml-widgets) (20.3.0)\n",
      "Requirement already satisfied, skipping upgrade: ptyprocess>=0.5 in /anaconda/envs/azureml_py36/lib/python3.6/site-packages (from pexpect; sys_platform != \"win32\"->ipython>=4.0.0; python_version >= \"3.3\"->ipywidgets>=7.0.0->azureml-widgets) (0.7.0)\n",
      "Requirement already satisfied, skipping upgrade: wcwidth in /anaconda/envs/azureml_py36/lib/python3.6/site-packages (from prompt-toolkit!=3.0.0,!=3.0.1,<3.1.0,>=2.0.0->ipython>=4.0.0; python_version >= \"3.3\"->ipywidgets>=7.0.0->azureml-widgets) (0.2.5)\n",
      "Requirement already satisfied, skipping upgrade: parso<0.9.0,>=0.8.0 in /anaconda/envs/azureml_py36/lib/python3.6/site-packages (from jedi>=0.10->ipython>=4.0.0; python_version >= \"3.3\"->ipywidgets>=7.0.0->azureml-widgets) (0.8.1)\n",
      "Requirement already satisfied, skipping upgrade: portalocker~=1.0; platform_system != \"Windows\" in /anaconda/envs/azureml_py36/lib/python3.6/site-packages (from msal-extensions~=0.2.2->azure-identity<1.5.0,>=1.2.0->azureml-dataprep<2.12.0a,>=2.11.0a->azureml-dataset-runtime[fuse]~=1.24.0->azureml-sdk) (1.7.1)\n",
      "Requirement already satisfied, skipping upgrade: MarkupSafe>=0.23 in /anaconda/envs/azureml_py36/lib/python3.6/site-packages (from jinja2->notebook>=4.4.1->widgetsnbextension~=3.5.0->ipywidgets>=7.0.0->azureml-widgets) (1.1.1)\n",
      "Requirement already satisfied, skipping upgrade: pandocfilters>=1.4.1 in /anaconda/envs/azureml_py36/lib/python3.6/site-packages (from nbconvert->notebook>=4.4.1->widgetsnbextension~=3.5.0->ipywidgets>=7.0.0->azureml-widgets) (1.4.3)\n",
      "Requirement already satisfied, skipping upgrade: mistune<2,>=0.8.1 in /anaconda/envs/azureml_py36/lib/python3.6/site-packages (from nbconvert->notebook>=4.4.1->widgetsnbextension~=3.5.0->ipywidgets>=7.0.0->azureml-widgets) (0.8.4)\n",
      "Requirement already satisfied, skipping upgrade: defusedxml in /anaconda/envs/azureml_py36/lib/python3.6/site-packages (from nbconvert->notebook>=4.4.1->widgetsnbextension~=3.5.0->ipywidgets>=7.0.0->azureml-widgets) (0.6.0)\n",
      "Requirement already satisfied, skipping upgrade: testpath in /anaconda/envs/azureml_py36/lib/python3.6/site-packages (from nbconvert->notebook>=4.4.1->widgetsnbextension~=3.5.0->ipywidgets>=7.0.0->azureml-widgets) (0.4.4)\n",
      "Requirement already satisfied, skipping upgrade: entrypoints>=0.2.2 in /anaconda/envs/azureml_py36/lib/python3.6/site-packages (from nbconvert->notebook>=4.4.1->widgetsnbextension~=3.5.0->ipywidgets>=7.0.0->azureml-widgets) (0.3)\n",
      "Requirement already satisfied, skipping upgrade: bleach in /anaconda/envs/azureml_py36/lib/python3.6/site-packages (from nbconvert->notebook>=4.4.1->widgetsnbextension~=3.5.0->ipywidgets>=7.0.0->azureml-widgets) (3.3.0)\n",
      "Requirement already satisfied, skipping upgrade: webencodings in /anaconda/envs/azureml_py36/lib/python3.6/site-packages (from bleach->nbconvert->notebook>=4.4.1->widgetsnbextension~=3.5.0->ipywidgets>=7.0.0->azureml-widgets) (0.5.1)\n",
      "Requirement already satisfied, skipping upgrade: packaging in /anaconda/envs/azureml_py36/lib/python3.6/site-packages (from bleach->nbconvert->notebook>=4.4.1->widgetsnbextension~=3.5.0->ipywidgets>=7.0.0->azureml-widgets) (20.9)\n",
      "Requirement already satisfied, skipping upgrade: pyparsing>=2.0.2 in /anaconda/envs/azureml_py36/lib/python3.6/site-packages (from packaging->bleach->nbconvert->notebook>=4.4.1->widgetsnbextension~=3.5.0->ipywidgets>=7.0.0->azureml-widgets) (2.4.7)\n"
     ]
    }
   ],
   "source": [
    "#installing require packages\n",
    "!pip install --upgrade azureml-sdk azureml-widgets"
   ]
  },
  {
   "cell_type": "code",
   "execution_count": 2,
   "metadata": {},
   "outputs": [
    {
     "name": "stdout",
     "output_type": "stream",
     "text": [
      "Ready to use Azure ML 1.24.0 to work with cloudchronicles\n"
     ]
    }
   ],
   "source": [
    "import azureml.core\n",
    "from azureml.core import Workspace\n",
    "\n",
    "# Load the workspace from the saved config file\n",
    "ws = Workspace.from_config()\n",
    "\n",
    "print('Ready to use Azure ML {} to work with {}'.format(azureml.core.VERSION, ws.name))"
   ]
  },
  {
   "cell_type": "code",
   "execution_count": 3,
   "metadata": {},
   "outputs": [
    {
     "data": {
      "text/plain": [
       "{\n",
       "  \"name\": \"workspaceblobstore\",\n",
       "  \"container_name\": \"azureml-blobstore-14994ef0-dd19-46ed-9811-bb6743361672\",\n",
       "  \"account_name\": \"cloudchronicle3731318223\",\n",
       "  \"protocol\": \"https\",\n",
       "  \"endpoint\": \"core.windows.net\"\n",
       "}"
      ]
     },
     "execution_count": 3,
     "metadata": {},
     "output_type": "execute_result"
    }
   ],
   "source": [
    "from azureml.core import Dataset\n",
    "\n",
    "# Get the default datastore\n",
    "default_ds = ws.get_default_datastore()\n",
    "default_ds"
   ]
  },
  {
   "cell_type": "code",
   "execution_count": 4,
   "metadata": {},
   "outputs": [
    {
     "name": "stdout",
     "output_type": "stream",
     "text": [
      "Datasets:\n",
      "\t sbadata version 1\n"
     ]
    }
   ],
   "source": [
    "print(\"Datasets:\")\n",
    "for dataset_name in list(ws.datasets.keys()):\n",
    "    dataset = Dataset.get_by_name(ws, dataset_name)\n",
    "    print(\"\\t\", dataset.name, 'version', dataset.version)"
   ]
  },
  {
   "cell_type": "markdown",
   "metadata": {},
   "source": [
    "Remove some of the columns that you won't need for training or additional feature building."
   ]
  },
  {
   "cell_type": "code",
   "execution_count": 5,
   "metadata": {},
   "outputs": [],
   "source": [
    "#import dataset\n",
    "#use version 3\n",
    "sba_df = Dataset.get_by_name(ws, 'sbadata', version = 1)\n",
    "sba_df = sba_df.to_pandas_dataframe()"
   ]
  },
  {
   "cell_type": "code",
   "execution_count": 6,
   "metadata": {},
   "outputs": [
    {
     "data": {
      "text/plain": [
       "Index(['LoanNr_ChkDgt', 'Name', 'City', 'State', 'Zip', 'Bank', 'BankState',\n",
       "       'NAICS', 'ApprovalDate', 'ApprovalFY', 'Term', 'NoEmp', 'NewExist',\n",
       "       'CreateJob', 'RetainedJob', 'FranchiseCode', 'UrbanRural', 'RevLineCr',\n",
       "       'LowDoc', 'ChgOffDate', 'DisbursementDate', 'DisbursemnetFY',\n",
       "       'DisbursementGross', 'BalanceGross', 'MIS_Status', 'ChgOffPrinGr',\n",
       "       'GrAppv', 'SBA_Appv', 'Percentage_sabapp', 'default_status', 'Industry',\n",
       "       'IsFranchise', 'RealEstate', 'Recession', 'same_bankstate',\n",
       "       'Daystodisbursement'],\n",
       "      dtype='object')"
      ]
     },
     "execution_count": 6,
     "metadata": {},
     "output_type": "execute_result"
    }
   ],
   "source": [
    "sba_df.columns"
   ]
  },
  {
   "cell_type": "code",
   "execution_count": 7,
   "metadata": {
    "collapsed": true
   },
   "outputs": [
    {
     "data": {
      "text/plain": [
       "LoanNr_ChkDgt              0\n",
       "Name                       0\n",
       "City                       0\n",
       "State                      0\n",
       "Zip                        0\n",
       "Bank                       0\n",
       "BankState                  0\n",
       "NAICS                      0\n",
       "ApprovalDate               0\n",
       "ApprovalFY                 0\n",
       "Term                       0\n",
       "NoEmp                      0\n",
       "NewExist                   0\n",
       "CreateJob                  0\n",
       "RetainedJob                0\n",
       "FranchiseCode              0\n",
       "UrbanRural                 0\n",
       "RevLineCr                  0\n",
       "LowDoc                     0\n",
       "ChgOffDate            478590\n",
       "DisbursementDate           0\n",
       "DisbursemnetFY             0\n",
       "DisbursementGross          0\n",
       "BalanceGross               0\n",
       "MIS_Status                 0\n",
       "ChgOffPrinGr               0\n",
       "GrAppv                     0\n",
       "SBA_Appv                   0\n",
       "Percentage_sabapp          0\n",
       "default_status             0\n",
       "Industry                   0\n",
       "IsFranchise                0\n",
       "RealEstate                 0\n",
       "Recession                  0\n",
       "same_bankstate             0\n",
       "Daystodisbursement         0\n",
       "dtype: int64"
      ]
     },
     "execution_count": 7,
     "metadata": {},
     "output_type": "execute_result"
    }
   ],
   "source": [
    "sba_df.isnull().sum()"
   ]
  },
  {
   "cell_type": "code",
   "execution_count": 8,
   "metadata": {
    "collapsed": true
   },
   "outputs": [
    {
     "name": "stdout",
     "output_type": "stream",
     "text": [
      "<class 'pandas.core.frame.DataFrame'>\n",
      "RangeIndex: 591176 entries, 0 to 591175\n",
      "Data columns (total 36 columns):\n",
      "LoanNr_ChkDgt         591176 non-null int64\n",
      "Name                  591176 non-null object\n",
      "City                  591176 non-null object\n",
      "State                 591176 non-null object\n",
      "Zip                   591176 non-null int64\n",
      "Bank                  591176 non-null object\n",
      "BankState             591176 non-null object\n",
      "NAICS                 591176 non-null int64\n",
      "ApprovalDate          591176 non-null datetime64[ns]\n",
      "ApprovalFY            591176 non-null int64\n",
      "Term                  591176 non-null int64\n",
      "NoEmp                 591176 non-null int64\n",
      "NewExist              591176 non-null int64\n",
      "CreateJob             591176 non-null int64\n",
      "RetainedJob           591176 non-null int64\n",
      "FranchiseCode         591176 non-null int64\n",
      "UrbanRural            591176 non-null int64\n",
      "RevLineCr             591176 non-null int64\n",
      "LowDoc                591176 non-null int64\n",
      "ChgOffDate            112586 non-null datetime64[ns]\n",
      "DisbursementDate      591176 non-null datetime64[ns]\n",
      "DisbursemnetFY        591176 non-null int64\n",
      "DisbursementGross     591176 non-null int64\n",
      "BalanceGross          591176 non-null int64\n",
      "MIS_Status            591176 non-null object\n",
      "ChgOffPrinGr          591176 non-null int64\n",
      "GrAppv                591176 non-null int64\n",
      "SBA_Appv              591176 non-null int64\n",
      "Percentage_sabapp     591176 non-null float64\n",
      "default_status        591176 non-null int64\n",
      "Industry              591176 non-null object\n",
      "IsFranchise           591176 non-null int64\n",
      "RealEstate            591176 non-null int64\n",
      "Recession             591176 non-null int64\n",
      "same_bankstate        591176 non-null int64\n",
      "Daystodisbursement    591176 non-null int64\n",
      "dtypes: datetime64[ns](3), float64(1), int64(25), object(7)\n",
      "memory usage: 162.4+ MB\n"
     ]
    }
   ],
   "source": [
    "sba_df.info()"
   ]
  },
  {
   "cell_type": "code",
   "execution_count": 9,
   "metadata": {},
   "outputs": [],
   "source": [
    "sba_df.drop(columns = ['LoanNr_ChkDgt','City','Name','State','Zip','Bank','BankState','NAICS','ApprovalDate','ApprovalFY','FranchiseCode','ChgOffDate','DisbursementDate','DisbursemnetFY','MIS_Status','SBA_Appv','ChgOffPrinGr'], inplace=True)"
   ]
  },
  {
   "cell_type": "code",
   "execution_count": 10,
   "metadata": {
    "collapsed": true
   },
   "outputs": [
    {
     "data": {
      "text/plain": [
       "Index(['Term', 'NoEmp', 'NewExist', 'CreateJob', 'RetainedJob', 'UrbanRural',\n",
       "       'RevLineCr', 'LowDoc', 'DisbursementGross', 'BalanceGross', 'GrAppv',\n",
       "       'Percentage_sabapp', 'default_status', 'Industry', 'IsFranchise',\n",
       "       'RealEstate', 'Recession', 'same_bankstate', 'Daystodisbursement'],\n",
       "      dtype='object')"
      ]
     },
     "execution_count": 10,
     "metadata": {},
     "output_type": "execute_result"
    }
   ],
   "source": [
    "sba_df.columns"
   ]
  },
  {
   "cell_type": "code",
   "execution_count": 11,
   "metadata": {},
   "outputs": [],
   "source": [
    "#Setting up workspace\n",
    "from azureml.core.workspace import Workspace\n",
    "ws = Workspace.from_config()"
   ]
  },
  {
   "cell_type": "code",
   "execution_count": 12,
   "metadata": {},
   "outputs": [],
   "source": [
    "#creating training and testing dataset\n",
    "from sklearn.model_selection import train_test_split\n",
    "\n",
    "x_train, x_test = train_test_split(sba_df, test_size=0.2, random_state=223)"
   ]
  },
  {
   "cell_type": "code",
   "execution_count": 13,
   "metadata": {},
   "outputs": [
    {
     "data": {
      "text/html": [
       "<div>\n",
       "<style scoped>\n",
       "    .dataframe tbody tr th:only-of-type {\n",
       "        vertical-align: middle;\n",
       "    }\n",
       "\n",
       "    .dataframe tbody tr th {\n",
       "        vertical-align: top;\n",
       "    }\n",
       "\n",
       "    .dataframe thead th {\n",
       "        text-align: right;\n",
       "    }\n",
       "</style>\n",
       "<table border=\"1\" class=\"dataframe\">\n",
       "  <thead>\n",
       "    <tr style=\"text-align: right;\">\n",
       "      <th></th>\n",
       "      <th>Term</th>\n",
       "      <th>NoEmp</th>\n",
       "      <th>NewExist</th>\n",
       "      <th>CreateJob</th>\n",
       "      <th>RetainedJob</th>\n",
       "      <th>UrbanRural</th>\n",
       "      <th>RevLineCr</th>\n",
       "      <th>LowDoc</th>\n",
       "      <th>DisbursementGross</th>\n",
       "      <th>BalanceGross</th>\n",
       "      <th>GrAppv</th>\n",
       "      <th>Percentage_sabapp</th>\n",
       "      <th>default_status</th>\n",
       "      <th>Industry</th>\n",
       "      <th>IsFranchise</th>\n",
       "      <th>RealEstate</th>\n",
       "      <th>Recession</th>\n",
       "      <th>same_bankstate</th>\n",
       "      <th>Daystodisbursement</th>\n",
       "    </tr>\n",
       "  </thead>\n",
       "  <tbody>\n",
       "    <tr>\n",
       "      <th>300456</th>\n",
       "      <td>132</td>\n",
       "      <td>1</td>\n",
       "      <td>2</td>\n",
       "      <td>0</td>\n",
       "      <td>0</td>\n",
       "      <td>0</td>\n",
       "      <td>0</td>\n",
       "      <td>0</td>\n",
       "      <td>21000</td>\n",
       "      <td>0</td>\n",
       "      <td>21000</td>\n",
       "      <td>83.000000</td>\n",
       "      <td>0</td>\n",
       "      <td>Wholesale_trade</td>\n",
       "      <td>0</td>\n",
       "      <td>0</td>\n",
       "      <td>0</td>\n",
       "      <td>1</td>\n",
       "      <td>89</td>\n",
       "    </tr>\n",
       "    <tr>\n",
       "      <th>272534</th>\n",
       "      <td>180</td>\n",
       "      <td>2</td>\n",
       "      <td>1</td>\n",
       "      <td>0</td>\n",
       "      <td>0</td>\n",
       "      <td>2</td>\n",
       "      <td>0</td>\n",
       "      <td>0</td>\n",
       "      <td>650000</td>\n",
       "      <td>0</td>\n",
       "      <td>650000</td>\n",
       "      <td>68.680000</td>\n",
       "      <td>0</td>\n",
       "      <td>Other_no_pub</td>\n",
       "      <td>0</td>\n",
       "      <td>0</td>\n",
       "      <td>1</td>\n",
       "      <td>0</td>\n",
       "      <td>15</td>\n",
       "    </tr>\n",
       "    <tr>\n",
       "      <th>358608</th>\n",
       "      <td>240</td>\n",
       "      <td>14</td>\n",
       "      <td>1</td>\n",
       "      <td>0</td>\n",
       "      <td>0</td>\n",
       "      <td>0</td>\n",
       "      <td>0</td>\n",
       "      <td>0</td>\n",
       "      <td>670000</td>\n",
       "      <td>0</td>\n",
       "      <td>670000</td>\n",
       "      <td>80.100000</td>\n",
       "      <td>0</td>\n",
       "      <td>RE/Rental/Lease</td>\n",
       "      <td>0</td>\n",
       "      <td>1</td>\n",
       "      <td>1</td>\n",
       "      <td>1</td>\n",
       "      <td>100</td>\n",
       "    </tr>\n",
       "    <tr>\n",
       "      <th>191730</th>\n",
       "      <td>180</td>\n",
       "      <td>1</td>\n",
       "      <td>2</td>\n",
       "      <td>0</td>\n",
       "      <td>0</td>\n",
       "      <td>2</td>\n",
       "      <td>0</td>\n",
       "      <td>0</td>\n",
       "      <td>160000</td>\n",
       "      <td>0</td>\n",
       "      <td>160000</td>\n",
       "      <td>75.000000</td>\n",
       "      <td>0</td>\n",
       "      <td>Wholesale_trade</td>\n",
       "      <td>0</td>\n",
       "      <td>0</td>\n",
       "      <td>1</td>\n",
       "      <td>1</td>\n",
       "      <td>35</td>\n",
       "    </tr>\n",
       "    <tr>\n",
       "      <th>190533</th>\n",
       "      <td>29</td>\n",
       "      <td>1</td>\n",
       "      <td>2</td>\n",
       "      <td>0</td>\n",
       "      <td>1</td>\n",
       "      <td>1</td>\n",
       "      <td>1</td>\n",
       "      <td>0</td>\n",
       "      <td>23283</td>\n",
       "      <td>0</td>\n",
       "      <td>10000</td>\n",
       "      <td>21.474896</td>\n",
       "      <td>1</td>\n",
       "      <td>Educational</td>\n",
       "      <td>0</td>\n",
       "      <td>0</td>\n",
       "      <td>1</td>\n",
       "      <td>0</td>\n",
       "      <td>107</td>\n",
       "    </tr>\n",
       "    <tr>\n",
       "      <th>...</th>\n",
       "      <td>...</td>\n",
       "      <td>...</td>\n",
       "      <td>...</td>\n",
       "      <td>...</td>\n",
       "      <td>...</td>\n",
       "      <td>...</td>\n",
       "      <td>...</td>\n",
       "      <td>...</td>\n",
       "      <td>...</td>\n",
       "      <td>...</td>\n",
       "      <td>...</td>\n",
       "      <td>...</td>\n",
       "      <td>...</td>\n",
       "      <td>...</td>\n",
       "      <td>...</td>\n",
       "      <td>...</td>\n",
       "      <td>...</td>\n",
       "      <td>...</td>\n",
       "      <td>...</td>\n",
       "    </tr>\n",
       "    <tr>\n",
       "      <th>527143</th>\n",
       "      <td>84</td>\n",
       "      <td>6</td>\n",
       "      <td>1</td>\n",
       "      <td>0</td>\n",
       "      <td>0</td>\n",
       "      <td>0</td>\n",
       "      <td>0</td>\n",
       "      <td>1</td>\n",
       "      <td>60000</td>\n",
       "      <td>0</td>\n",
       "      <td>60000</td>\n",
       "      <td>90.000000</td>\n",
       "      <td>0</td>\n",
       "      <td>Retail_trade</td>\n",
       "      <td>0</td>\n",
       "      <td>0</td>\n",
       "      <td>0</td>\n",
       "      <td>1</td>\n",
       "      <td>34</td>\n",
       "    </tr>\n",
       "    <tr>\n",
       "      <th>566430</th>\n",
       "      <td>60</td>\n",
       "      <td>15</td>\n",
       "      <td>1</td>\n",
       "      <td>0</td>\n",
       "      <td>0</td>\n",
       "      <td>0</td>\n",
       "      <td>0</td>\n",
       "      <td>1</td>\n",
       "      <td>89000</td>\n",
       "      <td>0</td>\n",
       "      <td>89000</td>\n",
       "      <td>18.000000</td>\n",
       "      <td>0</td>\n",
       "      <td>Retail_trade</td>\n",
       "      <td>0</td>\n",
       "      <td>0</td>\n",
       "      <td>0</td>\n",
       "      <td>0</td>\n",
       "      <td>85</td>\n",
       "    </tr>\n",
       "    <tr>\n",
       "      <th>540847</th>\n",
       "      <td>180</td>\n",
       "      <td>2</td>\n",
       "      <td>1</td>\n",
       "      <td>0</td>\n",
       "      <td>0</td>\n",
       "      <td>0</td>\n",
       "      <td>0</td>\n",
       "      <td>0</td>\n",
       "      <td>250200</td>\n",
       "      <td>0</td>\n",
       "      <td>250200</td>\n",
       "      <td>75.000000</td>\n",
       "      <td>0</td>\n",
       "      <td>Ag/For/Fish/Hunt</td>\n",
       "      <td>0</td>\n",
       "      <td>0</td>\n",
       "      <td>1</td>\n",
       "      <td>1</td>\n",
       "      <td>347</td>\n",
       "    </tr>\n",
       "    <tr>\n",
       "      <th>158398</th>\n",
       "      <td>84</td>\n",
       "      <td>1</td>\n",
       "      <td>2</td>\n",
       "      <td>0</td>\n",
       "      <td>1</td>\n",
       "      <td>1</td>\n",
       "      <td>0</td>\n",
       "      <td>0</td>\n",
       "      <td>25000</td>\n",
       "      <td>0</td>\n",
       "      <td>25000</td>\n",
       "      <td>50.000000</td>\n",
       "      <td>0</td>\n",
       "      <td>Prof/Science/Tech</td>\n",
       "      <td>0</td>\n",
       "      <td>0</td>\n",
       "      <td>1</td>\n",
       "      <td>0</td>\n",
       "      <td>23</td>\n",
       "    </tr>\n",
       "    <tr>\n",
       "      <th>120849</th>\n",
       "      <td>84</td>\n",
       "      <td>1</td>\n",
       "      <td>2</td>\n",
       "      <td>0</td>\n",
       "      <td>1</td>\n",
       "      <td>1</td>\n",
       "      <td>1</td>\n",
       "      <td>0</td>\n",
       "      <td>134878</td>\n",
       "      <td>0</td>\n",
       "      <td>25000</td>\n",
       "      <td>9.267634</td>\n",
       "      <td>0</td>\n",
       "      <td>Prof/Science/Tech</td>\n",
       "      <td>0</td>\n",
       "      <td>0</td>\n",
       "      <td>1</td>\n",
       "      <td>0</td>\n",
       "      <td>29</td>\n",
       "    </tr>\n",
       "  </tbody>\n",
       "</table>\n",
       "<p>472940 rows × 19 columns</p>\n",
       "</div>"
      ],
      "text/plain": [
       "        Term  NoEmp  NewExist  CreateJob  RetainedJob  UrbanRural  RevLineCr  \\\n",
       "300456   132      1         2          0            0           0          0   \n",
       "272534   180      2         1          0            0           2          0   \n",
       "358608   240     14         1          0            0           0          0   \n",
       "191730   180      1         2          0            0           2          0   \n",
       "190533    29      1         2          0            1           1          1   \n",
       "...      ...    ...       ...        ...          ...         ...        ...   \n",
       "527143    84      6         1          0            0           0          0   \n",
       "566430    60     15         1          0            0           0          0   \n",
       "540847   180      2         1          0            0           0          0   \n",
       "158398    84      1         2          0            1           1          0   \n",
       "120849    84      1         2          0            1           1          1   \n",
       "\n",
       "        LowDoc  DisbursementGross  BalanceGross  GrAppv  Percentage_sabapp  \\\n",
       "300456       0              21000             0   21000          83.000000   \n",
       "272534       0             650000             0  650000          68.680000   \n",
       "358608       0             670000             0  670000          80.100000   \n",
       "191730       0             160000             0  160000          75.000000   \n",
       "190533       0              23283             0   10000          21.474896   \n",
       "...        ...                ...           ...     ...                ...   \n",
       "527143       1              60000             0   60000          90.000000   \n",
       "566430       1              89000             0   89000          18.000000   \n",
       "540847       0             250200             0  250200          75.000000   \n",
       "158398       0              25000             0   25000          50.000000   \n",
       "120849       0             134878             0   25000           9.267634   \n",
       "\n",
       "        default_status           Industry  IsFranchise  RealEstate  Recession  \\\n",
       "300456               0    Wholesale_trade            0           0          0   \n",
       "272534               0       Other_no_pub            0           0          1   \n",
       "358608               0    RE/Rental/Lease            0           1          1   \n",
       "191730               0    Wholesale_trade            0           0          1   \n",
       "190533               1        Educational            0           0          1   \n",
       "...                ...                ...          ...         ...        ...   \n",
       "527143               0       Retail_trade            0           0          0   \n",
       "566430               0       Retail_trade            0           0          0   \n",
       "540847               0   Ag/For/Fish/Hunt            0           0          1   \n",
       "158398               0  Prof/Science/Tech            0           0          1   \n",
       "120849               0  Prof/Science/Tech            0           0          1   \n",
       "\n",
       "        same_bankstate  Daystodisbursement  \n",
       "300456               1                  89  \n",
       "272534               0                  15  \n",
       "358608               1                 100  \n",
       "191730               1                  35  \n",
       "190533               0                 107  \n",
       "...                ...                 ...  \n",
       "527143               1                  34  \n",
       "566430               0                  85  \n",
       "540847               1                 347  \n",
       "158398               0                  23  \n",
       "120849               0                  29  \n",
       "\n",
       "[472940 rows x 19 columns]"
      ]
     },
     "execution_count": 13,
     "metadata": {},
     "output_type": "execute_result"
    }
   ],
   "source": [
    "x_train"
   ]
  },
  {
   "cell_type": "code",
   "execution_count": 14,
   "metadata": {},
   "outputs": [],
   "source": [
    "import logging\n",
    "\n",
    "automl_settings = {\n",
    "    \"iteration_timeout_minutes\": 10,\n",
    "    \"experiment_timeout_hours\": 0.3,\n",
    "    \"enable_early_stopping\": True,\n",
    "    \"primary_metric\": 'AUC_weighted',\n",
    "    \"featurization\": 'auto',\n",
    "    \"verbosity\": logging.INFO,\n",
    "    \"n_cross_validations\": 5\n",
    "}"
   ]
  },
  {
   "cell_type": "code",
   "execution_count": 15,
   "metadata": {},
   "outputs": [],
   "source": [
    "from azureml.train.automl import AutoMLConfig\n",
    "\n",
    "automl_config = AutoMLConfig(task='classification',\n",
    "                             debug_log='automated_ml_errors.log',\n",
    "                             training_data=x_train,\n",
    "                             label_column_name= 'default_status',\n",
    "                             **automl_settings)"
   ]
  },
  {
   "cell_type": "code",
   "execution_count": 16,
   "metadata": {},
   "outputs": [],
   "source": [
    "from azureml.core.experiment import Experiment\n",
    "experiment = Experiment(ws, 'bank')\n"
   ]
  },
  {
   "cell_type": "code",
   "execution_count": 17,
   "metadata": {},
   "outputs": [
    {
     "name": "stdout",
     "output_type": "stream",
     "text": [
      "No run_configuration provided, running on local with default configuration\n",
      "Running on local machine\n",
      "Parent Run ID: AutoML_2a1388d9-c9a6-452f-9ef3-cdaca48df016\n",
      "\n",
      "Current status: DatasetEvaluation. Gathering dataset statistics.\n",
      "Current status: FeaturesGeneration. Generating features for the dataset.\n",
      "Current status: DatasetFeaturization. Beginning to fit featurizers and featurize the dataset.\n",
      "Current status: DatasetFeaturizationCompleted. Completed fit featurizers and featurizing the dataset.\n",
      "Current status: DatasetCrossValidationSplit. Generating individually featurized CV splits.\n",
      "\n",
      "****************************************************************************************************\n",
      "DATA GUARDRAILS: \n",
      "\n",
      "TYPE:         Class balancing detection\n",
      "STATUS:       PASSED\n",
      "DESCRIPTION:  Your inputs were analyzed, and all classes are balanced in your training data.\n",
      "              Learn more about imbalanced data: https://aka.ms/AutomatedMLImbalancedData\n",
      "\n",
      "****************************************************************************************************\n",
      "\n",
      "TYPE:         Missing feature values imputation\n",
      "STATUS:       PASSED\n",
      "DESCRIPTION:  No feature missing values were detected in the training data.\n",
      "              Learn more about missing value imputation: https://aka.ms/AutomatedMLFeaturization\n",
      "\n",
      "****************************************************************************************************\n",
      "\n",
      "TYPE:         High cardinality feature detection\n",
      "STATUS:       PASSED\n",
      "DESCRIPTION:  Your inputs were analyzed, and no high cardinality features were detected.\n",
      "              Learn more about high cardinality feature handling: https://aka.ms/AutomatedMLFeaturization\n",
      "\n",
      "****************************************************************************************************\n",
      "Current status: ModelSelection. Beginning model selection.\n",
      "\n",
      "****************************************************************************************************\n",
      "ITERATION: The iteration being evaluated.\n",
      "PIPELINE: A summary description of the pipeline being evaluated.\n",
      "DURATION: Time taken for the current iteration.\n",
      "METRIC: The result of computing score on the fitted pipeline.\n",
      "BEST: The best observed score thus far.\n",
      "****************************************************************************************************\n",
      "\n",
      " ITERATION   PIPELINE                                       DURATION      METRIC      BEST\n",
      "         0   MaxAbsScaler LightGBM                          0:01:29       0.9746    0.9746\n",
      "         1   "
     ]
    },
    {
     "name": "stderr",
     "output_type": "stream",
     "text": [
      "Run.fail() is deprecated, use Run.tag() to mark run as failed or use Run.cancel() to mark the run as canceled\n",
      "Run.fail() will be removed shortly\n"
     ]
    },
    {
     "name": "stdout",
     "output_type": "stream",
     "text": [
      "                                               0:00:12          nan    0.9746\n",
      "ERROR: FitException:\n",
      "\tMessage: /anaconda/envs/azureml_py36/lib/libxgboost.so: undefined symbol: XGDMatrixSetDenseInfo\n",
      "\tInnerException: AttributeError: /anaconda/envs/azureml_py36/lib/libxgboost.so: undefined symbol: XGDMatrixSetDenseInfo\n",
      "\tErrorResponse \n",
      "{\n",
      "    \"error\": {\n",
      "        \"code\": \"SystemError\",\n",
      "        \"message\": \"Encountered an internal AutoML error. Error Message/Code: FitException. Additional Info: FitException:\\n\\tMessage: /anaconda/envs/azureml_py36/lib/libxgboost.so: undefined symbol: XGDMatrixSetDenseInfo\\n\\tInnerException: None\\n\\tErrorResponse \\n{\\n    \\\"error\\\": {\\n        \\\"message\\\": \\\"/anaconda/envs/azureml_py36/lib/libxgboost.so: undefined symbol: XGDMatrixSetDenseInfo\\\",\\n        \\\"target\\\": \\\"Xgboost\\\",\\n        \\\"reference_code\\\": \\\"Xgboost\\\"\\n    }\\n}\",\n",
      "        \"details_uri\": \"https://docs.microsoft.com/azure/machine-learning/resource-known-issues#automated-machine-learning\",\n",
      "        \"target\": \"Xgboost\",\n",
      "        \"inner_error\": {\n",
      "            \"code\": \"ClientError\",\n",
      "            \"inner_error\": {\n",
      "                \"code\": \"AutoMLInternal\"\n",
      "            }\n",
      "        },\n",
      "        \"reference_code\": \"Xgboost\"\n",
      "    }\n",
      "}\n",
      "         2   MaxAbsScaler RandomForest                      0:01:01       0.8750    0.9746\n",
      "         3   MaxAbsScaler RandomForest                      0:01:37       0.8952    0.9746\n",
      "         4   MaxAbsScaler RandomForest                      0:00:55       0.8642    0.9746\n",
      "         5   VotingEnsemble                                 0:01:15       0.9746    0.9746\n",
      "         6   StackEnsemble                                  0:02:21       0.9746    0.9746\n",
      "Stopping criteria reached at iteration 7. Ending experiment.\n",
      "****************************************************************************************************\n",
      "Current status: BestRunExplainModel. Best run model explanations started\n",
      "Current status: ModelExplanationDataSetSetup. Model explanations data setup completed\n",
      "Current status: PickSurrogateModel. Choosing LightGBM as the surrogate model for explanations\n",
      "Current status: EngineeredFeatureExplanations. Computation of engineered features started\n",
      "Current status: EngineeredFeatureExplanations. Computation of engineered features completed\n",
      "Current status: RawFeaturesExplanations. Computation of raw features started\n",
      "Current status: RawFeaturesExplanations. Computation of raw features completed\n",
      "Current status: BestRunExplainModel. Best run model explanations completed\n",
      "****************************************************************************************************\n"
     ]
    }
   ],
   "source": [
    "local_run = experiment.submit(automl_config, show_output=True)"
   ]
  },
  {
   "cell_type": "code",
   "execution_count": 18,
   "metadata": {},
   "outputs": [
    {
     "data": {
      "application/vnd.jupyter.widget-view+json": {
       "model_id": "772281e0d192451abb65905a709d3e81",
       "version_major": 2,
       "version_minor": 0
      },
      "text/plain": [
       "_AutoMLWidget(widget_settings={'childWidgetDisplay': 'popup', 'send_telemetry': False, 'log_level': 'INFO', 's…"
      ]
     },
     "metadata": {},
     "output_type": "display_data"
    },
    {
     "data": {
      "application/aml.mini.widget.v1": "{\"status\": \"Completed\", \"workbench_run_details_uri\": \"https://ml.azure.com/experiments/bank/runs/AutoML_2a1388d9-c9a6-452f-9ef3-cdaca48df016?wsid=/subscriptions/629d1ac2-be71-4dd1-b2d8-a49fd8497790/resourcegroups/athira-demo/workspaces/cloudchronicles\", \"run_id\": \"AutoML_2a1388d9-c9a6-452f-9ef3-cdaca48df016\", \"run_properties\": {\"run_id\": \"AutoML_2a1388d9-c9a6-452f-9ef3-cdaca48df016\", \"created_utc\": \"2021-03-20T04:12:35.318369Z\", \"properties\": {\"num_iterations\": \"1000\", \"training_type\": \"TrainFull\", \"acquisition_function\": \"EI\", \"primary_metric\": \"AUC_weighted\", \"train_split\": \"0\", \"acquisition_parameter\": \"0\", \"num_cross_validation\": \"5\", \"target\": \"local\", \"AMLSettingsJsonString\": \"{\\\"path\\\":null,\\\"name\\\":\\\"bank\\\",\\\"subscription_id\\\":\\\"629d1ac2-be71-4dd1-b2d8-a49fd8497790\\\",\\\"resource_group\\\":\\\"athira-demo\\\",\\\"workspace_name\\\":\\\"cloudchronicles\\\",\\\"region\\\":\\\"eastus2\\\",\\\"compute_target\\\":\\\"local\\\",\\\"spark_service\\\":null,\\\"azure_service\\\":\\\"Microsoft.AzureNotebookVM\\\",\\\"many_models\\\":false,\\\"pipeline_fetch_max_batch_size\\\":1,\\\"enable_batch_run\\\":false,\\\"iterations\\\":1000,\\\"primary_metric\\\":\\\"AUC_weighted\\\",\\\"task_type\\\":\\\"classification\\\",\\\"data_script\\\":null,\\\"validation_size\\\":0.0,\\\"n_cross_validations\\\":5,\\\"y_min\\\":null,\\\"y_max\\\":null,\\\"num_classes\\\":null,\\\"featurization\\\":\\\"auto\\\",\\\"_ignore_package_version_incompatibilities\\\":false,\\\"is_timeseries\\\":false,\\\"max_cores_per_iteration\\\":1,\\\"max_concurrent_iterations\\\":1,\\\"iteration_timeout_minutes\\\":10,\\\"mem_in_mb\\\":null,\\\"enforce_time_on_windows\\\":false,\\\"experiment_timeout_minutes\\\":18,\\\"experiment_exit_score\\\":null,\\\"whitelist_models\\\":null,\\\"blacklist_algos\\\":[\\\"TensorFlowLinearClassifier\\\",\\\"TensorFlowDNN\\\"],\\\"supported_models\\\":[\\\"SGD\\\",\\\"DecisionTree\\\",\\\"SVM\\\",\\\"BernoulliNaiveBayes\\\",\\\"TensorFlowLinearClassifier\\\",\\\"AveragedPerceptronClassifier\\\",\\\"LogisticRegression\\\",\\\"TensorFlowDNN\\\",\\\"XGBoostClassifier\\\",\\\"LightGBM\\\",\\\"GradientBoosting\\\",\\\"RandomForest\\\",\\\"LinearSVM\\\",\\\"KNN\\\",\\\"ExtremeRandomTrees\\\",\\\"MultinomialNaiveBayes\\\"],\\\"private_models\\\":[],\\\"auto_blacklist\\\":true,\\\"blacklist_samples_reached\\\":false,\\\"exclude_nan_labels\\\":true,\\\"verbosity\\\":20,\\\"_debug_log\\\":\\\"automated_ml_errors.log\\\",\\\"show_warnings\\\":false,\\\"model_explainability\\\":true,\\\"service_url\\\":null,\\\"sdk_url\\\":null,\\\"sdk_packages\\\":null,\\\"enable_onnx_compatible_models\\\":false,\\\"enable_split_onnx_featurizer_estimator_models\\\":false,\\\"vm_type\\\":null,\\\"telemetry_verbosity\\\":20,\\\"send_telemetry\\\":true,\\\"enable_dnn\\\":false,\\\"scenario\\\":\\\"SDK-1.13.0\\\",\\\"environment_label\\\":null,\\\"save_mlflow\\\":false,\\\"force_text_dnn\\\":false,\\\"enable_feature_sweeping\\\":true,\\\"enable_early_stopping\\\":true,\\\"early_stopping_n_iters\\\":10,\\\"metrics\\\":null,\\\"enable_metric_confidence\\\":false,\\\"enable_ensembling\\\":true,\\\"enable_stack_ensembling\\\":true,\\\"ensemble_iterations\\\":15,\\\"enable_tf\\\":false,\\\"enable_subsampling\\\":null,\\\"subsample_seed\\\":null,\\\"enable_nimbusml\\\":false,\\\"enable_streaming\\\":false,\\\"force_streaming\\\":false,\\\"track_child_runs\\\":true,\\\"allowed_private_models\\\":[],\\\"label_column_name\\\":\\\"default_status\\\",\\\"weight_column_name\\\":null,\\\"cv_split_column_names\\\":null,\\\"enable_local_managed\\\":false,\\\"_local_managed_run_id\\\":null,\\\"cost_mode\\\":1,\\\"lag_length\\\":0,\\\"metric_operation\\\":\\\"maximize\\\",\\\"preprocess\\\":true}\", \"DataPrepJsonString\": null, \"EnableSubsampling\": null, \"runTemplate\": \"AutoML\", \"azureml.runsource\": \"automl\", \"display_task_type\": \"classification\", \"dependencies_versions\": \"{\\\"azureml-widgets\\\": \\\"1.24.0\\\", \\\"azureml-train\\\": \\\"1.24.0\\\", \\\"azureml-train-restclients-hyperdrive\\\": \\\"1.24.0\\\", \\\"azureml-train-core\\\": \\\"1.24.0\\\", \\\"azureml-train-automl\\\": \\\"1.24.0\\\", \\\"azureml-train-automl-runtime\\\": \\\"1.24.0\\\", \\\"azureml-train-automl-client\\\": \\\"1.24.0\\\", \\\"azureml-tensorboard\\\": \\\"1.22.0\\\", \\\"azureml-telemetry\\\": \\\"1.24.0\\\", \\\"azureml-sdk\\\": \\\"1.24.0\\\", \\\"azureml-samples\\\": \\\"0+unknown\\\", \\\"azureml-pipeline\\\": \\\"1.24.0\\\", \\\"azureml-pipeline-steps\\\": \\\"1.24.0\\\", \\\"azureml-pipeline-core\\\": \\\"1.24.0\\\", \\\"azureml-opendatasets\\\": \\\"1.22.0\\\", \\\"azureml-model-management-sdk\\\": \\\"1.0.1b6.post1\\\", \\\"azureml-mlflow\\\": \\\"1.22.0\\\", \\\"azureml-interpret\\\": \\\"1.24.0\\\", \\\"azureml-explain-model\\\": \\\"1.22.0\\\", \\\"azureml-defaults\\\": \\\"1.24.0\\\", \\\"azureml-dataset-runtime\\\": \\\"1.24.0\\\", \\\"azureml-dataprep\\\": \\\"2.11.1\\\", \\\"azureml-dataprep-rslex\\\": \\\"1.9.0\\\", \\\"azureml-dataprep-native\\\": \\\"30.0.0\\\", \\\"azureml-datadrift\\\": \\\"1.22.0\\\", \\\"azureml-core\\\": \\\"1.24.0.post2\\\", \\\"azureml-contrib-services\\\": \\\"1.22.0\\\", \\\"azureml-contrib-server\\\": \\\"1.22.0\\\", \\\"azureml-contrib-reinforcementlearning\\\": \\\"1.22.0\\\", \\\"azureml-contrib-pipeline-steps\\\": \\\"1.22.0\\\", \\\"azureml-contrib-notebook\\\": \\\"1.22.0\\\", \\\"azureml-contrib-interpret\\\": \\\"1.22.0\\\", \\\"azureml-contrib-gbdt\\\": \\\"1.22.0\\\", \\\"azureml-contrib-fairness\\\": \\\"1.22.0\\\", \\\"azureml-contrib-dataset\\\": \\\"1.22.0\\\", \\\"azureml-cli-common\\\": \\\"1.22.0\\\", \\\"azureml-automl-runtime\\\": \\\"1.24.0\\\", \\\"azureml-automl-core\\\": \\\"1.24.0\\\", \\\"azureml-accel-models\\\": \\\"1.22.0\\\"}\", \"_aml_system_scenario_identification\": \"Local.Parent\", \"ClientSdkVersion\": \"1.24.0\", \"ClientType\": \"SDK\", \"environment_cpu_name\": \"AzureML-AutoML\", \"environment_cpu_label\": \"prod\", \"environment_gpu_name\": \"AzureML-AutoML-GPU\", \"environment_gpu_label\": \"prod\", \"root_attribution\": \"automl\", \"attribution\": \"AutoML\", \"Orchestrator\": \"AutoML\", \"_azureml.ComputeTargetType\": \"local\", \"ProblemInfoJsonString\": \"{\\\"dataset_num_categorical\\\": 0, \\\"is_sparse\\\": true, \\\"subsampling\\\": false, \\\"dataset_classes\\\": 2, \\\"dataset_features\\\": 45, \\\"dataset_samples\\\": 472940, \\\"single_frequency_class_detected\\\": false}\", \"feature_skus\": \"automatedml_sdk_guardrails\"}, \"tags\": {\"model_explain_run\": \"best_run\", \"best_score\": \"0.9745980236610364\", \"best_pipeline\": \"LightGBM\", \"automl_best_child_run_id\": \"AutoML_2a1388d9-c9a6-452f-9ef3-cdaca48df016_0\", \"model_explain_best_run_child_id\": \"AutoML_2a1388d9-c9a6-452f-9ef3-cdaca48df016_0\"}, \"end_time_utc\": \"2021-03-20T04:34:59.472338Z\", \"status\": \"Completed\", \"log_files\": {}, \"log_groups\": [], \"run_duration\": \"0:22:24\", \"run_number\": \"23\", \"run_queued_details\": {\"status\": \"Completed\", \"details\": null}}, \"child_runs\": [{\"run_id\": \"AutoML_2a1388d9-c9a6-452f-9ef3-cdaca48df016_0\", \"run_number\": 24, \"metric\": null, \"status\": \"Completed\", \"run_type\": null, \"training_percent\": \"100\", \"start_time\": \"2021-03-20T04:26:01.181313Z\", \"end_time\": \"2021-03-20T04:27:30.301134Z\", \"created_time\": \"2021-03-20T04:26:00.818261Z\", \"created_time_dt\": \"2021-03-20T04:26:00.818261Z\", \"duration\": \"0:01:29\", \"iteration\": \"0\", \"goal\": \"AUC_weighted_max\", \"run_name\": \"MaxAbsScaler, LightGBM\", \"run_properties\": \"copy=True\", \"primary_metric\": 0.97459802, \"best_metric\": 0.97459802}, {\"run_id\": \"AutoML_2a1388d9-c9a6-452f-9ef3-cdaca48df016_1\", \"run_number\": 25, \"metric\": null, \"status\": \"Failed\", \"run_type\": null, \"training_percent\": \"100\", \"start_time\": \"2021-03-20T04:27:30.748081Z\", \"end_time\": \"2021-03-20T04:27:43.135031Z\", \"created_time\": \"2021-03-20T04:27:30.581963Z\", \"created_time_dt\": \"2021-03-20T04:27:30.581963Z\", \"duration\": \"0:00:12\", \"iteration\": \"1\", \"goal\": \"AUC_weighted_max\", \"run_name\": \"MaxAbsScaler, XGBoostClassifier\", \"run_properties\": \"\"}, {\"run_id\": \"AutoML_2a1388d9-c9a6-452f-9ef3-cdaca48df016_2\", \"run_number\": 26, \"metric\": null, \"status\": \"Completed\", \"run_type\": null, \"training_percent\": \"100\", \"start_time\": \"2021-03-20T04:27:43.845279Z\", \"end_time\": \"2021-03-20T04:28:44.888124Z\", \"created_time\": \"2021-03-20T04:27:43.723094Z\", \"created_time_dt\": \"2021-03-20T04:27:43.723094Z\", \"duration\": \"0:01:01\", \"iteration\": \"2\", \"goal\": \"AUC_weighted_max\", \"run_name\": \"MaxAbsScaler, RandomForest\", \"run_properties\": \"copy=True\", \"primary_metric\": 0.87497394, \"best_metric\": 0.97459802}, {\"run_id\": \"AutoML_2a1388d9-c9a6-452f-9ef3-cdaca48df016_3\", \"run_number\": 27, \"metric\": null, \"status\": \"Completed\", \"run_type\": null, \"training_percent\": \"100\", \"start_time\": \"2021-03-20T04:28:46.418621Z\", \"end_time\": \"2021-03-20T04:30:23.467893Z\", \"created_time\": \"2021-03-20T04:28:46.28777Z\", \"created_time_dt\": \"2021-03-20T04:28:46.28777Z\", \"duration\": \"0:01:37\", \"iteration\": \"3\", \"goal\": \"AUC_weighted_max\", \"run_name\": \"MaxAbsScaler, RandomForest\", \"run_properties\": \"copy=True\", \"primary_metric\": 0.89524531, \"best_metric\": 0.97459802}, {\"run_id\": \"AutoML_2a1388d9-c9a6-452f-9ef3-cdaca48df016_4\", \"run_number\": 28, \"metric\": null, \"status\": \"Completed\", \"run_type\": null, \"training_percent\": \"100\", \"start_time\": \"2021-03-20T04:30:24.857855Z\", \"end_time\": \"2021-03-20T04:31:20.097407Z\", \"created_time\": \"2021-03-20T04:30:24.678216Z\", \"created_time_dt\": \"2021-03-20T04:30:24.678216Z\", \"duration\": \"0:00:55\", \"iteration\": \"4\", \"goal\": \"AUC_weighted_max\", \"run_name\": \"MaxAbsScaler, RandomForest\", \"run_properties\": \"copy=True\", \"primary_metric\": 0.86421661, \"best_metric\": 0.97459802}, {\"run_id\": \"AutoML_2a1388d9-c9a6-452f-9ef3-cdaca48df016_5\", \"run_number\": 29, \"metric\": null, \"status\": \"Completed\", \"run_type\": null, \"training_percent\": \"100\", \"start_time\": \"2021-03-20T04:31:20.493496Z\", \"end_time\": \"2021-03-20T04:32:35.640689Z\", \"created_time\": \"2021-03-20T04:31:20.373845Z\", \"created_time_dt\": \"2021-03-20T04:31:20.373845Z\", \"duration\": \"0:01:15\", \"iteration\": \"5\", \"goal\": \"AUC_weighted_max\", \"run_name\": \"VotingEnsemble\", \"run_properties\": \"classification_labels=None,\\n                              estimators=[('0',\\n                                           Pipeline(memory=None,\\n                                                    steps=[('maxabsscaler',\\n                                                            MaxAbsScaler(copy=True\", \"primary_metric\": 0.97459802, \"best_metric\": 0.97459802}, {\"run_id\": \"AutoML_2a1388d9-c9a6-452f-9ef3-cdaca48df016_6\", \"run_number\": 30, \"metric\": null, \"status\": \"Completed\", \"run_type\": null, \"training_percent\": \"100\", \"start_time\": \"2021-03-20T04:32:36.029438Z\", \"end_time\": \"2021-03-20T04:34:57.328638Z\", \"created_time\": \"2021-03-20T04:32:35.906267Z\", \"created_time_dt\": \"2021-03-20T04:32:35.906267Z\", \"duration\": \"0:02:21\", \"iteration\": \"6\", \"goal\": \"AUC_weighted_max\", \"run_name\": \"StackEnsemble\", \"run_properties\": \"base_learners=[('0',\\n                                        Pipeline(memory=None,\\n                                                 steps=[('maxabsscaler',\\n                                                         MaxAbsScaler(copy=True\", \"primary_metric\": 0.97459802, \"best_metric\": 0.97459802}], \"children_metrics\": {\"categories\": [0], \"series\": {\"average_precision_score_micro\": [{\"categories\": [\"0\", \"2\", \"3\", \"4\", \"5\", \"6\"], \"mode\": \"markers\", \"name\": \"average_precision_score_micro\", \"stepped\": false, \"type\": \"scatter\", \"data\": [0.985883999864833, 0.9296778192671085, 0.8896576811074975, 0.9243189441077628, 0.985883999864833, 0.9700824725554218]}, {\"categories\": [\"0\", \"2\", \"3\", \"4\", \"5\", \"6\"], \"mode\": \"lines\", \"name\": \"average_precision_score_micro_max\", \"stepped\": true, \"type\": \"scatter\", \"data\": [0.985883999864833, 0.985883999864833, 0.985883999864833, 0.985883999864833, 0.985883999864833, 0.985883999864833]}], \"AUC_micro\": [{\"categories\": [\"0\", \"2\", \"3\", \"4\", \"5\", \"6\"], \"mode\": \"markers\", \"name\": \"AUC_micro\", \"stepped\": false, \"type\": \"scatter\", \"data\": [0.985841728709695, 0.930711880738697, 0.8929972193474256, 0.9262792382523408, 0.985841728709695, 0.9687764044496758]}, {\"categories\": [\"0\", \"2\", \"3\", \"4\", \"5\", \"6\"], \"mode\": \"lines\", \"name\": \"AUC_micro_max\", \"stepped\": true, \"type\": \"scatter\", \"data\": [0.985841728709695, 0.985841728709695, 0.985841728709695, 0.985841728709695, 0.985841728709695, 0.985841728709695]}], \"average_precision_score_weighted\": [{\"categories\": [\"0\", \"2\", \"3\", \"4\", \"5\", \"6\"], \"mode\": \"markers\", \"name\": \"average_precision_score_weighted\", \"stepped\": false, \"type\": \"scatter\", \"data\": [0.9781202027617809, 0.9124943150767783, 0.9220525209210372, 0.9048067445399626, 0.9781202027617809, 0.9781202027617809]}, {\"categories\": [\"0\", \"2\", \"3\", \"4\", \"5\", \"6\"], \"mode\": \"lines\", \"name\": \"average_precision_score_weighted_max\", \"stepped\": true, \"type\": \"scatter\", \"data\": [0.9781202027617809, 0.9781202027617809, 0.9781202027617809, 0.9781202027617809, 0.9781202027617809, 0.9781202027617809]}], \"weighted_accuracy\": [{\"categories\": [\"0\", \"2\", \"3\", \"4\", \"5\", \"6\"], \"mode\": \"markers\", \"name\": \"weighted_accuracy\", \"stepped\": false, \"type\": \"scatter\", \"data\": [0.9665141914104669, 0.9544223819548471, 0.8442462199001557, 0.952860853010268, 0.9665141914104669, 0.9697579851063913]}, {\"categories\": [\"0\", \"2\", \"3\", \"4\", \"5\", \"6\"], \"mode\": \"lines\", \"name\": \"weighted_accuracy_max\", \"stepped\": true, \"type\": \"scatter\", \"data\": [0.9665141914104669, 0.9665141914104669, 0.9665141914104669, 0.9665141914104669, 0.9665141914104669, 0.9697579851063913]}], \"AUC_macro\": [{\"categories\": [\"0\", \"2\", \"3\", \"4\", \"5\", \"6\"], \"mode\": \"markers\", \"name\": \"AUC_macro\", \"stepped\": false, \"type\": \"scatter\", \"data\": [0.9745980236610363, 0.874973941254277, 0.8952453121621093, 0.8642166068728837, 0.9745980236610363, 0.9745980236610363]}, {\"categories\": [\"0\", \"2\", \"3\", \"4\", \"5\", \"6\"], \"mode\": \"lines\", \"name\": \"AUC_macro_max\", \"stepped\": true, \"type\": \"scatter\", \"data\": [0.9745980236610363, 0.9745980236610363, 0.9745980236610363, 0.9745980236610363, 0.9745980236610363, 0.9745980236610363]}], \"average_precision_score_macro\": [{\"categories\": [\"0\", \"2\", \"3\", \"4\", \"5\", \"6\"], \"mode\": \"markers\", \"name\": \"average_precision_score_macro\", \"stepped\": false, \"type\": \"scatter\", \"data\": [0.9519613357840513, 0.8269673172820907, 0.8406165986281925, 0.8135089733161898, 0.9519613357840513, 0.9519613357840513]}, {\"categories\": [\"0\", \"2\", \"3\", \"4\", \"5\", \"6\"], \"mode\": \"lines\", \"name\": \"average_precision_score_macro_max\", \"stepped\": true, \"type\": \"scatter\", \"data\": [0.9519613357840513, 0.9519613357840513, 0.9519613357840513, 0.9519613357840513, 0.9519613357840513, 0.9519613357840513]}], \"precision_score_micro\": [{\"categories\": [\"0\", \"2\", \"3\", \"4\", \"5\", \"6\"], \"mode\": \"markers\", \"name\": \"precision_score_micro\", \"stepped\": false, \"type\": \"scatter\", \"data\": [0.9434219985621854, 0.8445405336829197, 0.8383092992768638, 0.8329090370871569, 0.9434219985621854, 0.8980864380259652]}, {\"categories\": [\"0\", \"2\", \"3\", \"4\", \"5\", \"6\"], \"mode\": \"lines\", \"name\": \"precision_score_micro_max\", \"stepped\": true, \"type\": \"scatter\", \"data\": [0.9434219985621854, 0.9434219985621854, 0.9434219985621854, 0.9434219985621854, 0.9434219985621854, 0.9434219985621854]}], \"AUC_weighted\": [{\"categories\": [\"0\", \"2\", \"3\", \"4\", \"5\", \"6\"], \"mode\": \"markers\", \"name\": \"AUC_weighted\", \"stepped\": false, \"type\": \"scatter\", \"data\": [0.9745980236610364, 0.874973941254277, 0.8952453121621092, 0.8642166068728837, 0.9745980236610364, 0.9745980236610364]}, {\"categories\": [\"0\", \"2\", \"3\", \"4\", \"5\", \"6\"], \"mode\": \"lines\", \"name\": \"AUC_weighted_max\", \"stepped\": true, \"type\": \"scatter\", \"data\": [0.9745980236610364, 0.9745980236610364, 0.9745980236610364, 0.9745980236610364, 0.9745980236610364, 0.9745980236610364]}], \"norm_macro_recall\": [{\"categories\": [\"0\", \"2\", \"3\", \"4\", \"5\", \"6\"], \"mode\": \"markers\", \"name\": \"norm_macro_recall\", \"stepped\": false, \"type\": \"scatter\", \"data\": [0.7799157142643727, 0.18026150646953024, 0.6491313393775918, 0.11027089325965367, 0.7799157142643727, 0.46429385274523505]}, {\"categories\": [\"0\", \"2\", \"3\", \"4\", \"5\", \"6\"], \"mode\": \"lines\", \"name\": \"norm_macro_recall_max\", \"stepped\": true, \"type\": \"scatter\", \"data\": [0.7799157142643727, 0.7799157142643727, 0.7799157142643727, 0.7799157142643727, 0.7799157142643727, 0.7799157142643727]}], \"log_loss\": [{\"categories\": [\"0\", \"2\", \"3\", \"4\", \"5\", \"6\"], \"mode\": \"markers\", \"name\": \"log_loss\", \"stepped\": false, \"type\": \"scatter\", \"data\": [0.15135157382949654, 0.3440941943032677, 0.4529981138167085, 0.35827270196946615, 0.15135157382949654, 0.2867866744634143]}, {\"categories\": [\"0\", \"2\", \"3\", \"4\", \"5\", \"6\"], \"mode\": \"lines\", \"name\": \"log_loss_min\", \"stepped\": true, \"type\": \"scatter\", \"data\": [0.15135157382949654, 0.15135157382949654, 0.15135157382949654, 0.15135157382949654, 0.15135157382949654, 0.15135157382949654]}], \"recall_score_macro\": [{\"categories\": [\"0\", \"2\", \"3\", \"4\", \"5\", \"6\"], \"mode\": \"markers\", \"name\": \"recall_score_macro\", \"stepped\": false, \"type\": \"scatter\", \"data\": [0.8899578571321862, 0.5901307532347652, 0.824565669688796, 0.5551354466298268, 0.8899578571321862, 0.7321469263726175]}, {\"categories\": [\"0\", \"2\", \"3\", \"4\", \"5\", \"6\"], \"mode\": \"lines\", \"name\": \"recall_score_macro_max\", \"stepped\": true, \"type\": \"scatter\", \"data\": [0.8899578571321862, 0.8899578571321862, 0.8899578571321862, 0.8899578571321862, 0.8899578571321862, 0.8899578571321862]}], \"accuracy\": [{\"categories\": [\"0\", \"2\", \"3\", \"4\", \"5\", \"6\"], \"mode\": \"markers\", \"name\": \"accuracy\", \"stepped\": false, \"type\": \"scatter\", \"data\": [0.9434219985621854, 0.8445405336829197, 0.8383092992768638, 0.8329090370871569, 0.9434219985621854, 0.8980864380259652]}, {\"categories\": [\"0\", \"2\", \"3\", \"4\", \"5\", \"6\"], \"mode\": \"lines\", \"name\": \"accuracy_max\", \"stepped\": true, \"type\": \"scatter\", \"data\": [0.9434219985621854, 0.9434219985621854, 0.9434219985621854, 0.9434219985621854, 0.9434219985621854, 0.9434219985621854]}], \"precision_score_weighted\": [{\"categories\": [\"0\", \"2\", \"3\", \"4\", \"5\", \"6\"], \"mode\": \"markers\", \"name\": \"precision_score_weighted\", \"stepped\": false, \"type\": \"scatter\", \"data\": [0.9422173454041761, 0.8502854082666145, 0.8744190089850115, 0.7759332501770887, 0.9422173454041761, 0.9045675329133523]}, {\"categories\": [\"0\", \"2\", \"3\", \"4\", \"5\", \"6\"], \"mode\": \"lines\", \"name\": \"precision_score_weighted_max\", \"stepped\": true, \"type\": \"scatter\", \"data\": [0.9422173454041761, 0.9422173454041761, 0.9422173454041761, 0.9422173454041761, 0.9422173454041761, 0.9422173454041761]}], \"precision_score_macro\": [{\"categories\": [\"0\", \"2\", \"3\", \"4\", \"5\", \"6\"], \"mode\": \"markers\", \"name\": \"precision_score_macro\", \"stepped\": false, \"type\": \"scatter\", \"data\": [0.9178002525184932, 0.8619868637845611, 0.7462415670667741, 0.6797079375782495, 0.9178002525184932, 0.9261066309844918]}, {\"categories\": [\"0\", \"2\", \"3\", \"4\", \"5\", \"6\"], \"mode\": \"lines\", \"name\": \"precision_score_macro_max\", \"stepped\": true, \"type\": \"scatter\", \"data\": [0.9178002525184932, 0.9178002525184932, 0.9178002525184932, 0.9178002525184932, 0.9178002525184932, 0.9261066309844918]}], \"recall_score_micro\": [{\"categories\": [\"0\", \"2\", \"3\", \"4\", \"5\", \"6\"], \"mode\": \"markers\", \"name\": \"recall_score_micro\", \"stepped\": false, \"type\": \"scatter\", \"data\": [0.9434219985621854, 0.8445405336829197, 0.8383092992768638, 0.8329090370871569, 0.9434219985621854, 0.8980864380259652]}, {\"categories\": [\"0\", \"2\", \"3\", \"4\", \"5\", \"6\"], \"mode\": \"lines\", \"name\": \"recall_score_micro_max\", \"stepped\": true, \"type\": \"scatter\", \"data\": [0.9434219985621854, 0.9434219985621854, 0.9434219985621854, 0.9434219985621854, 0.9434219985621854, 0.9434219985621854]}], \"f1_score_micro\": [{\"categories\": [\"0\", \"2\", \"3\", \"4\", \"5\", \"6\"], \"mode\": \"markers\", \"name\": \"f1_score_micro\", \"stepped\": false, \"type\": \"scatter\", \"data\": [0.9434219985621854, 0.8445405336829197, 0.8383092992768638, 0.8329090370871569, 0.9434219985621854, 0.8980864380259653]}, {\"categories\": [\"0\", \"2\", \"3\", \"4\", \"5\", \"6\"], \"mode\": \"lines\", \"name\": \"f1_score_micro_max\", \"stepped\": true, \"type\": \"scatter\", \"data\": [0.9434219985621854, 0.9434219985621854, 0.9434219985621854, 0.9434219985621854, 0.9434219985621854, 0.9434219985621854]}], \"matthews_correlation\": [{\"categories\": [\"0\", \"2\", \"3\", \"4\", \"5\", \"6\"], \"mode\": \"markers\", \"name\": \"matthews_correlation\", \"stepped\": false, \"type\": \"scatter\", \"data\": [0.8072767063268869, 0.3506083870951425, 0.5654033469264111, 0.2164543173991989, 0.8072767063268869, 0.6290235490050401]}, {\"categories\": [\"0\", \"2\", \"3\", \"4\", \"5\", \"6\"], \"mode\": \"lines\", \"name\": \"matthews_correlation_max\", \"stepped\": true, \"type\": \"scatter\", \"data\": [0.8072767063268869, 0.8072767063268869, 0.8072767063268869, 0.8072767063268869, 0.8072767063268869, 0.8072767063268869]}], \"f1_score_weighted\": [{\"categories\": [\"0\", \"2\", \"3\", \"4\", \"5\", \"6\"], \"mode\": \"markers\", \"name\": \"f1_score_weighted\", \"stepped\": false, \"type\": \"scatter\", \"data\": [0.9424474787927652, 0.7990959057653307, 0.8492839400175566, 0.7733205106983221, 0.9424474787927652, 0.8833534972150897]}, {\"categories\": [\"0\", \"2\", \"3\", \"4\", \"5\", \"6\"], \"mode\": \"lines\", \"name\": \"f1_score_weighted_max\", \"stepped\": true, \"type\": \"scatter\", \"data\": [0.9424474787927652, 0.9424474787927652, 0.9424474787927652, 0.9424474787927652, 0.9424474787927652, 0.9424474787927652]}], \"balanced_accuracy\": [{\"categories\": [\"0\", \"2\", \"3\", \"4\", \"5\", \"6\"], \"mode\": \"markers\", \"name\": \"balanced_accuracy\", \"stepped\": false, \"type\": \"scatter\", \"data\": [0.8899578571321862, 0.5901307532347652, 0.824565669688796, 0.5551354466298268, 0.8899578571321862, 0.7321469263726175]}, {\"categories\": [\"0\", \"2\", \"3\", \"4\", \"5\", \"6\"], \"mode\": \"lines\", \"name\": \"balanced_accuracy_max\", \"stepped\": true, \"type\": \"scatter\", \"data\": [0.8899578571321862, 0.8899578571321862, 0.8899578571321862, 0.8899578571321862, 0.8899578571321862, 0.8899578571321862]}], \"f1_score_macro\": [{\"categories\": [\"0\", \"2\", \"3\", \"4\", \"5\", \"6\"], \"mode\": \"markers\", \"name\": \"f1_score_macro\", \"stepped\": false, \"type\": \"scatter\", \"data\": [0.9030212568920819, 0.6061147207680273, 0.7713416818488079, 0.5461126609629289, 0.9030212568920819, 0.7854152382265764]}, {\"categories\": [\"0\", \"2\", \"3\", \"4\", \"5\", \"6\"], \"mode\": \"lines\", \"name\": \"f1_score_macro_max\", \"stepped\": true, \"type\": \"scatter\", \"data\": [0.9030212568920819, 0.9030212568920819, 0.9030212568920819, 0.9030212568920819, 0.9030212568920819, 0.9030212568920819]}], \"recall_score_weighted\": [{\"categories\": [\"0\", \"2\", \"3\", \"4\", \"5\", \"6\"], \"mode\": \"markers\", \"name\": \"recall_score_weighted\", \"stepped\": false, \"type\": \"scatter\", \"data\": [0.9434219985621854, 0.8445405336829197, 0.8383092992768638, 0.8329090370871569, 0.9434219985621854, 0.8980864380259652]}, {\"categories\": [\"0\", \"2\", \"3\", \"4\", \"5\", \"6\"], \"mode\": \"lines\", \"name\": \"recall_score_weighted_max\", \"stepped\": true, \"type\": \"scatter\", \"data\": [0.9434219985621854, 0.9434219985621854, 0.9434219985621854, 0.9434219985621854, 0.9434219985621854, 0.9434219985621854]}]}, \"metricName\": null, \"primaryMetricName\": \"AUC_weighted\", \"showLegend\": false}, \"run_metrics\": [{\"name\": \"AUC_weighted\", \"run_id\": \"AutoML_2a1388d9-c9a6-452f-9ef3-cdaca48df016\", \"categories\": [0], \"series\": [{\"data\": [0.9745980236610364]}]}, {\"name\": \"balanced_accuracy\", \"run_id\": \"AutoML_2a1388d9-c9a6-452f-9ef3-cdaca48df016\", \"categories\": [0], \"series\": [{\"data\": [0.8899578571321862]}]}, {\"name\": \"recall_score_weighted\", \"run_id\": \"AutoML_2a1388d9-c9a6-452f-9ef3-cdaca48df016\", \"categories\": [0], \"series\": [{\"data\": [0.9434219985621854]}]}, {\"name\": \"matthews_correlation\", \"run_id\": \"AutoML_2a1388d9-c9a6-452f-9ef3-cdaca48df016\", \"categories\": [0], \"series\": [{\"data\": [0.8072767063268869]}]}, {\"name\": \"average_precision_score_macro\", \"run_id\": \"AutoML_2a1388d9-c9a6-452f-9ef3-cdaca48df016\", \"categories\": [0], \"series\": [{\"data\": [0.9519613357840513]}]}, {\"name\": \"recall_score_macro\", \"run_id\": \"AutoML_2a1388d9-c9a6-452f-9ef3-cdaca48df016\", \"categories\": [0], \"series\": [{\"data\": [0.8899578571321862]}]}, {\"name\": \"weighted_accuracy\", \"run_id\": \"AutoML_2a1388d9-c9a6-452f-9ef3-cdaca48df016\", \"categories\": [0], \"series\": [{\"data\": [0.9665141914104669]}]}, {\"name\": \"AUC_micro\", \"run_id\": \"AutoML_2a1388d9-c9a6-452f-9ef3-cdaca48df016\", \"categories\": [0], \"series\": [{\"data\": [0.985841728709695]}]}, {\"name\": \"precision_score_macro\", \"run_id\": \"AutoML_2a1388d9-c9a6-452f-9ef3-cdaca48df016\", \"categories\": [0], \"series\": [{\"data\": [0.9178002525184932]}]}, {\"name\": \"precision_score_weighted\", \"run_id\": \"AutoML_2a1388d9-c9a6-452f-9ef3-cdaca48df016\", \"categories\": [0], \"series\": [{\"data\": [0.9422173454041761]}]}, {\"name\": \"f1_score_macro\", \"run_id\": \"AutoML_2a1388d9-c9a6-452f-9ef3-cdaca48df016\", \"categories\": [0], \"series\": [{\"data\": [0.9030212568920819]}]}, {\"name\": \"log_loss\", \"run_id\": \"AutoML_2a1388d9-c9a6-452f-9ef3-cdaca48df016\", \"categories\": [0], \"series\": [{\"data\": [0.15135157382949654]}]}, {\"name\": \"f1_score_micro\", \"run_id\": \"AutoML_2a1388d9-c9a6-452f-9ef3-cdaca48df016\", \"categories\": [0], \"series\": [{\"data\": [0.9434219985621854]}]}, {\"name\": \"average_precision_score_weighted\", \"run_id\": \"AutoML_2a1388d9-c9a6-452f-9ef3-cdaca48df016\", \"categories\": [0], \"series\": [{\"data\": [0.9781202027617809]}]}, {\"name\": \"f1_score_weighted\", \"run_id\": \"AutoML_2a1388d9-c9a6-452f-9ef3-cdaca48df016\", \"categories\": [0], \"series\": [{\"data\": [0.9424474787927652]}]}, {\"name\": \"accuracy\", \"run_id\": \"AutoML_2a1388d9-c9a6-452f-9ef3-cdaca48df016\", \"categories\": [0], \"series\": [{\"data\": [0.9434219985621854]}]}, {\"name\": \"precision_score_micro\", \"run_id\": \"AutoML_2a1388d9-c9a6-452f-9ef3-cdaca48df016\", \"categories\": [0], \"series\": [{\"data\": [0.9434219985621854]}]}, {\"name\": \"norm_macro_recall\", \"run_id\": \"AutoML_2a1388d9-c9a6-452f-9ef3-cdaca48df016\", \"categories\": [0], \"series\": [{\"data\": [0.7799157142643727]}]}, {\"name\": \"AUC_macro\", \"run_id\": \"AutoML_2a1388d9-c9a6-452f-9ef3-cdaca48df016\", \"categories\": [0], \"series\": [{\"data\": [0.9745980236610363]}]}, {\"name\": \"recall_score_micro\", \"run_id\": \"AutoML_2a1388d9-c9a6-452f-9ef3-cdaca48df016\", \"categories\": [0], \"series\": [{\"data\": [0.9434219985621854]}]}, {\"name\": \"average_precision_score_micro\", \"run_id\": \"AutoML_2a1388d9-c9a6-452f-9ef3-cdaca48df016\", \"categories\": [0], \"series\": [{\"data\": [0.985883999864833]}]}], \"run_logs\": \"\\nRun is completed.\", \"graph\": {}, \"widget_settings\": {\"childWidgetDisplay\": \"popup\", \"send_telemetry\": false, \"log_level\": \"INFO\", \"sdk_version\": \"1.24.0\"}, \"loading\": false}"
     },
     "metadata": {},
     "output_type": "display_data"
    }
   ],
   "source": [
    "from azureml.widgets import RunDetails\n",
    "RunDetails(local_run).show() "
   ]
  },
  {
   "cell_type": "markdown",
   "metadata": {},
   "source": [
    "### Retrieve the best model"
   ]
  },
  {
   "cell_type": "markdown",
   "metadata": {},
   "source": [
    "Select the best model from your iterations. The `get_output` function returns the best run and the fitted model for the last fit invocation. By using the overloads on `get_output`, you can retrieve the best run and fitted model for any logged metric or a particular iteration."
   ]
  },
  {
   "cell_type": "code",
   "execution_count": 19,
   "metadata": {},
   "outputs": [
    {
     "name": "stdout",
     "output_type": "stream",
     "text": [
      "Run(Experiment: bank,\n",
      "Id: AutoML_2a1388d9-c9a6-452f-9ef3-cdaca48df016_0,\n",
      "Type: None,\n",
      "Status: Completed)\n",
      "Pipeline(memory=None,\n",
      "         steps=[('datatransformer',\n",
      "                 DataTransformer(enable_dnn=None, enable_feature_sweeping=None,\n",
      "                                 feature_sweeping_config=None,\n",
      "                                 feature_sweeping_timeout=None,\n",
      "                                 featurization_config=None, force_text_dnn=None,\n",
      "                                 is_cross_validation=None,\n",
      "                                 is_onnx_compatible=None, logger=None,\n",
      "                                 observer=None, task=None, working_dir=None)),\n",
      "                ('MaxAbsScaler', MaxAbsScaler(copy...\n",
      "                 LightGBMClassifier(boosting_type='gbdt', class_weight=None,\n",
      "                                    colsample_bytree=1.0,\n",
      "                                    importance_type='split', learning_rate=0.1,\n",
      "                                    max_depth=-1, min_child_samples=20,\n",
      "                                    min_child_weight=0.001, min_split_gain=0.0,\n",
      "                                    n_estimators=100, n_jobs=1, num_leaves=31,\n",
      "                                    objective=None, random_state=None,\n",
      "                                    reg_alpha=0.0, reg_lambda=0.0, silent=True,\n",
      "                                    subsample=1.0, subsample_for_bin=200000,\n",
      "                                    subsample_freq=0, verbose=-10))],\n",
      "         verbose=False)\n"
     ]
    }
   ],
   "source": [
    "best_run, fitted_model = local_run.get_output()\n",
    "print(best_run)\n",
    "print(fitted_model)"
   ]
  },
  {
   "cell_type": "markdown",
   "metadata": {},
   "source": [
    "### Test the best model accuracy"
   ]
  },
  {
   "cell_type": "code",
   "execution_count": 20,
   "metadata": {},
   "outputs": [
    {
     "name": "stdout",
     "output_type": "stream",
     "text": [
      "[1 0 0 0 0 1 0 0 0 0]\n"
     ]
    }
   ],
   "source": [
    "y_test = x_test.pop(\"default_status\")\n",
    "\n",
    "y_predict = fitted_model.predict(x_test)\n",
    "print(y_predict[:10])"
   ]
  },
  {
   "cell_type": "code",
   "execution_count": 21,
   "metadata": {},
   "outputs": [
    {
     "data": {
      "text/plain": [
       "0.23838419393547292"
      ]
     },
     "execution_count": 21,
     "metadata": {},
     "output_type": "execute_result"
    }
   ],
   "source": [
    "from sklearn.metrics import mean_squared_error\n",
    "from math import sqrt\n",
    "\n",
    "y_actual = y_test.values.flatten().tolist()\n",
    "rmse = sqrt(mean_squared_error(y_actual, y_predict))\n",
    "rmse"
   ]
  },
  {
   "cell_type": "code",
   "execution_count": 22,
   "metadata": {},
   "outputs": [
    {
     "name": "stdout",
     "output_type": "stream",
     "text": [
      "Model MAPE:\n",
      "0.3069438099588853\n",
      "\n",
      "Model Accuracy:\n",
      "0.6930561900411147\n"
     ]
    }
   ],
   "source": [
    "sum_actuals = sum_errors = 0\n",
    "\n",
    "for actual_val, predict_val in zip(y_actual, y_predict):\n",
    "    abs_error = actual_val - predict_val\n",
    "    if abs_error < 0:\n",
    "        abs_error = abs_error * -1\n",
    "\n",
    "    sum_errors = sum_errors + abs_error\n",
    "    sum_actuals = sum_actuals + actual_val\n",
    "\n",
    "mean_abs_percent_error = sum_errors / sum_actuals\n",
    "print(\"Model MAPE:\")\n",
    "print(mean_abs_percent_error)\n",
    "print()\n",
    "print(\"Model Accuracy:\")\n",
    "print(1 - mean_abs_percent_error)"
   ]
  }
 ],
 "metadata": {
  "authors": [
   {
    "name": "jeffshep"
   }
  ],
  "categories": [
   "tutorials"
  ],
  "kernel_info": {
   "name": "python3-azureml"
  },
  "kernelspec": {
   "display_name": "Python 3",
   "language": "python",
   "name": "python3"
  },
  "language_info": {
   "codemirror_mode": {
    "name": "ipython",
    "version": 3
   },
   "file_extension": ".py",
   "mimetype": "text/x-python",
   "name": "python",
   "nbconvert_exporter": "python",
   "pygments_lexer": "ipython3",
   "version": "3.8.5"
  },
  "msauthor": "trbye",
  "network_required": false,
  "nteract": {
   "version": "nteract-front-end@1.0.0"
  }
 },
 "nbformat": 4,
 "nbformat_minor": 2
}
